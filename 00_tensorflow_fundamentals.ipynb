{
  "nbformat": 4,
  "nbformat_minor": 0,
  "metadata": {
    "colab": {
      "provenance": [],
      "authorship_tag": "ABX9TyOIjFKCfqVC6sFNhqWr6120",
      "include_colab_link": true
    },
    "kernelspec": {
      "name": "python3",
      "display_name": "Python 3"
    },
    "language_info": {
      "name": "python"
    }
  },
  "cells": [
    {
      "cell_type": "markdown",
      "metadata": {
        "id": "view-in-github",
        "colab_type": "text"
      },
      "source": [
        "<a href=\"https://colab.research.google.com/github/jacob7123/TensorFlow/blob/main/00_tensorflow_fundamentals.ipynb\" target=\"_parent\"><img src=\"https://colab.research.google.com/assets/colab-badge.svg\" alt=\"Open In Colab\"/></a>"
      ]
    },
    {
      "cell_type": "markdown",
      "source": [
        "# In this notebook, I am going to cover some of the most fumdamental comcepts of tensors using Tensorflow.\n",
        "\n",
        "More specifically, I am going to cover:\n",
        "* Introduction to tensor\n",
        "* Getting information from tensor\n",
        "* Manipulating tensors\n",
        "* Tensors and NumPy\n",
        "* Using @tf.function(a way to speed up my regular Python function)\n",
        "* Using GPUs with Tensorflow(or TPUs)\n",
        "* Exercises to try myself\n"
      ],
      "metadata": {
        "id": "gCYzfkr5ehdn"
      }
    },
    {
      "cell_type": "markdown",
      "source": [
        "## Introduction to tensor"
      ],
      "metadata": {
        "id": "sHdxpKiefJC2"
      }
    },
    {
      "cell_type": "code",
      "source": [
        "# Import Tensorflow\n",
        "import tensorflow as tf\n",
        "print(tf.__version__)"
      ],
      "metadata": {
        "colab": {
          "base_uri": "https://localhost:8080/"
        },
        "id": "wSCCjyfWgZvM",
        "outputId": "c1be3c90-f502-4047-8a46-c97460408d28"
      },
      "execution_count": null,
      "outputs": [
        {
          "output_type": "stream",
          "name": "stdout",
          "text": [
            "2.14.0\n"
          ]
        }
      ]
    },
    {
      "cell_type": "code",
      "source": [
        "# Create tensors with tf.constant()\n",
        "scalar = tf.constant(7)\n",
        "scalar"
      ],
      "metadata": {
        "colab": {
          "base_uri": "https://localhost:8080/"
        },
        "id": "aIXBoyrQgsGr",
        "outputId": "6c1c93d4-d75b-47f1-c233-69acf9fd5402"
      },
      "execution_count": null,
      "outputs": [
        {
          "output_type": "execute_result",
          "data": {
            "text/plain": [
              "<tf.Tensor: shape=(), dtype=int32, numpy=7>"
            ]
          },
          "metadata": {},
          "execution_count": 3
        }
      ]
    },
    {
      "cell_type": "code",
      "source": [],
      "metadata": {
        "id": "z1HsbE_9w0SL"
      },
      "execution_count": null,
      "outputs": []
    },
    {
      "cell_type": "code",
      "source": [
        "# check the number of the dimensions of tensor(ndim stands for number of dimension)\n",
        "scalar.ndim"
      ],
      "metadata": {
        "colab": {
          "base_uri": "https://localhost:8080/"
        },
        "id": "w8LjzDchwhVO",
        "outputId": "4b124f5d-f800-4c7d-f973-ddad6edc7bcc"
      },
      "execution_count": null,
      "outputs": [
        {
          "output_type": "execute_result",
          "data": {
            "text/plain": [
              "0"
            ]
          },
          "metadata": {},
          "execution_count": 4
        }
      ]
    },
    {
      "cell_type": "code",
      "source": [
        "#create a vector\n",
        "vector = tf.constant([10, 10])\n",
        "vector"
      ],
      "metadata": {
        "colab": {
          "base_uri": "https://localhost:8080/"
        },
        "id": "Wi_75gWVw5p0",
        "outputId": "62af194d-a1ab-4e7e-9aee-39a7c7de086a"
      },
      "execution_count": null,
      "outputs": [
        {
          "output_type": "execute_result",
          "data": {
            "text/plain": [
              "<tf.Tensor: shape=(2,), dtype=int32, numpy=array([10, 10], dtype=int32)>"
            ]
          },
          "metadata": {},
          "execution_count": 7
        }
      ]
    },
    {
      "cell_type": "code",
      "source": [
        "# Check the dimension of our vector\n",
        "vector.ndim"
      ],
      "metadata": {
        "colab": {
          "base_uri": "https://localhost:8080/"
        },
        "id": "MDLl1fjixIG_",
        "outputId": "445d1f41-7a4d-4b8b-99eb-9ec9db83a0c8"
      },
      "execution_count": null,
      "outputs": [
        {
          "output_type": "execute_result",
          "data": {
            "text/plain": [
              "1"
            ]
          },
          "metadata": {},
          "execution_count": 8
        }
      ]
    },
    {
      "cell_type": "code",
      "source": [
        "#Create matrix(Has more than 1 dimension)\n",
        "matrix = tf.constant([[10, 7],\n",
        "            [7, 10]])\n",
        "matrix"
      ],
      "metadata": {
        "colab": {
          "base_uri": "https://localhost:8080/"
        },
        "id": "5DDdtz3Exn27",
        "outputId": "a1f10b0e-0798-46a5-c16b-740f7d9a3a7b"
      },
      "execution_count": null,
      "outputs": [
        {
          "output_type": "execute_result",
          "data": {
            "text/plain": [
              "<tf.Tensor: shape=(2, 2), dtype=int32, numpy=\n",
              "array([[10,  7],\n",
              "       [ 7, 10]], dtype=int32)>"
            ]
          },
          "metadata": {},
          "execution_count": 9
        }
      ]
    },
    {
      "cell_type": "code",
      "source": [
        "matrix.ndim"
      ],
      "metadata": {
        "colab": {
          "base_uri": "https://localhost:8080/"
        },
        "id": "yYgn02xiyEGL",
        "outputId": "b2fd9606-2f74-41c7-a64f-b05f32eba1cf"
      },
      "execution_count": null,
      "outputs": [
        {
          "output_type": "execute_result",
          "data": {
            "text/plain": [
              "2"
            ]
          },
          "metadata": {},
          "execution_count": 10
        }
      ]
    },
    {
      "cell_type": "code",
      "source": [
        "#Create another matrix\n",
        "another_matrix = tf.constant([[10., 7.],\n",
        "                [3., 2.],\n",
        "                [8., 9.]], dtype = tf.float16) #Specify the data type with dtype parameter\n",
        "another_matrix"
      ],
      "metadata": {
        "colab": {
          "base_uri": "https://localhost:8080/"
        },
        "id": "9gpT56n1yMyC",
        "outputId": "0e0523c6-cd0a-4f16-8726-b48c452704b1"
      },
      "execution_count": null,
      "outputs": [
        {
          "output_type": "execute_result",
          "data": {
            "text/plain": [
              "<tf.Tensor: shape=(3, 2), dtype=float16, numpy=\n",
              "array([[10.,  7.],\n",
              "       [ 3.,  2.],\n",
              "       [ 8.,  9.]], dtype=float16)>"
            ]
          },
          "metadata": {},
          "execution_count": 12
        }
      ]
    },
    {
      "cell_type": "code",
      "source": [
        "another_matrix.ndim"
      ],
      "metadata": {
        "colab": {
          "base_uri": "https://localhost:8080/"
        },
        "id": "dAoNnNAbzLQ8",
        "outputId": "938631c4-4b9c-445f-ef79-bdfdef405d0a"
      },
      "execution_count": null,
      "outputs": [
        {
          "output_type": "execute_result",
          "data": {
            "text/plain": [
              "2"
            ]
          },
          "metadata": {},
          "execution_count": 14
        }
      ]
    },
    {
      "cell_type": "code",
      "source": [
        "#Lets create a tensor\n",
        "tensor = tf.constant([[[1, 2, 3],\n",
        "            [4, 5, 6]],\n",
        "            [[7, 8, 9],\n",
        "             [10, 11, 12]],\n",
        "            [[13, 14, 15],\n",
        "             [16, 17, 18]]])\n",
        "tensor"
      ],
      "metadata": {
        "colab": {
          "base_uri": "https://localhost:8080/"
        },
        "id": "xxcUo10Szrle",
        "outputId": "b33fd9bf-60e5-4222-f53d-77a22772590c"
      },
      "execution_count": null,
      "outputs": [
        {
          "output_type": "execute_result",
          "data": {
            "text/plain": [
              "<tf.Tensor: shape=(3, 2, 3), dtype=int32, numpy=\n",
              "array([[[ 1,  2,  3],\n",
              "        [ 4,  5,  6]],\n",
              "\n",
              "       [[ 7,  8,  9],\n",
              "        [10, 11, 12]],\n",
              "\n",
              "       [[13, 14, 15],\n",
              "        [16, 17, 18]]], dtype=int32)>"
            ]
          },
          "metadata": {},
          "execution_count": 15
        }
      ]
    },
    {
      "cell_type": "code",
      "source": [
        "tensor.ndim"
      ],
      "metadata": {
        "colab": {
          "base_uri": "https://localhost:8080/"
        },
        "id": "shealmm00rJ8",
        "outputId": "a40a9683-6b3d-4d7a-b0d3-1adb6bd022f6"
      },
      "execution_count": null,
      "outputs": [
        {
          "output_type": "execute_result",
          "data": {
            "text/plain": [
              "3"
            ]
          },
          "metadata": {},
          "execution_count": 16
        }
      ]
    },
    {
      "cell_type": "markdown",
      "source": [
        "What we have create so far:\n",
        "\n",
        "* Scalar: a single number\n",
        "* Vector: a number with direection(e.g. wind speed and direction)\n",
        "* Matrix: a 2-dimension array of number\n",
        "* Tensor: an n-dimensional array of number(n can be any number, a 0-dimensional tensor is a sclar, a 1-dimensional tensor is a vecotr)"
      ],
      "metadata": {
        "id": "iPbWYt7h2qCT"
      }
    },
    {
      "cell_type": "markdown",
      "source": [
        "###Create tensor with `tf.Variable`\n"
      ],
      "metadata": {
        "id": "6wHV4X573Ifk"
      }
    },
    {
      "cell_type": "code",
      "source": [
        "#Create the same tensor with tf.Variable() as above\n",
        "changeable_tensor = tf.Variable([10, 7])\n",
        "unchangeable_tensor = tf.constant([10, 7])\n",
        "changeable_tensor , unchangeable_tensor"
      ],
      "metadata": {
        "colab": {
          "base_uri": "https://localhost:8080/"
        },
        "id": "nrw9G2W724_v",
        "outputId": "9def5aca-5612-4e31-bd25-9f9dbae67165"
      },
      "execution_count": null,
      "outputs": [
        {
          "output_type": "execute_result",
          "data": {
            "text/plain": [
              "(<tf.Variable 'Variable:0' shape=(2,) dtype=int32, numpy=array([10,  7], dtype=int32)>,\n",
              " <tf.Tensor: shape=(2,), dtype=int32, numpy=array([10,  7], dtype=int32)>)"
            ]
          },
          "metadata": {},
          "execution_count": 21
        }
      ]
    },
    {
      "cell_type": "code",
      "source": [
        " #Let's tey one of the elements in our changeable tensor\n",
        " changeable_tensor[0] = 7\n",
        " changeable_tensor\n"
      ],
      "metadata": {
        "colab": {
          "base_uri": "https://localhost:8080/",
          "height": 213
        },
        "id": "QDeUS5BR3Dau",
        "outputId": "559ade6a-a99e-4674-fe14-8124902a1ae0"
      },
      "execution_count": null,
      "outputs": [
        {
          "output_type": "error",
          "ename": "TypeError",
          "evalue": "ignored",
          "traceback": [
            "\u001b[0;31m---------------------------------------------------------------------------\u001b[0m",
            "\u001b[0;31mTypeError\u001b[0m                                 Traceback (most recent call last)",
            "\u001b[0;32m<ipython-input-24-6e9c01d61563>\u001b[0m in \u001b[0;36m<cell line: 2>\u001b[0;34m()\u001b[0m\n\u001b[1;32m      1\u001b[0m \u001b[0;31m#Let's tey one of the elements in our changeable tensor\u001b[0m\u001b[0;34m\u001b[0m\u001b[0;34m\u001b[0m\u001b[0m\n\u001b[0;32m----> 2\u001b[0;31m \u001b[0mchangeable_tensor\u001b[0m\u001b[0;34m[\u001b[0m\u001b[0;36m0\u001b[0m\u001b[0;34m]\u001b[0m \u001b[0;34m=\u001b[0m \u001b[0;36m7\u001b[0m\u001b[0;34m\u001b[0m\u001b[0;34m\u001b[0m\u001b[0m\n\u001b[0m\u001b[1;32m      3\u001b[0m \u001b[0mchangeable_tensor\u001b[0m\u001b[0;34m\u001b[0m\u001b[0;34m\u001b[0m\u001b[0m\n",
            "\u001b[0;31mTypeError\u001b[0m: 'ResourceVariable' object does not support item assignment"
          ]
        }
      ]
    },
    {
      "cell_type": "code",
      "source": [
        "#How about we try .assign()\n",
        "changeable_tensor[0].assign(7)\n",
        "changeable_tensor"
      ],
      "metadata": {
        "colab": {
          "base_uri": "https://localhost:8080/"
        },
        "id": "9VZxJN8d9toR",
        "outputId": "1875a360-8a3b-48d6-a149-e0557b573a46"
      },
      "execution_count": null,
      "outputs": [
        {
          "output_type": "execute_result",
          "data": {
            "text/plain": [
              "<tf.Variable 'Variable:0' shape=(2,) dtype=int32, numpy=array([7, 7], dtype=int32)>"
            ]
          },
          "metadata": {},
          "execution_count": 25
        }
      ]
    },
    {
      "cell_type": "code",
      "source": [
        "#Let's try change our unchangeable tensor\n",
        "unchangeable_tensor[0].assign(7)\n",
        "unchangeable_tensor"
      ],
      "metadata": {
        "colab": {
          "base_uri": "https://localhost:8080/",
          "height": 334
        },
        "id": "33-BDPCV9-tr",
        "outputId": "19148ffd-c7a3-4c4d-bc69-869441e13267"
      },
      "execution_count": null,
      "outputs": [
        {
          "output_type": "error",
          "ename": "AttributeError",
          "evalue": "ignored",
          "traceback": [
            "\u001b[0;31m---------------------------------------------------------------------------\u001b[0m",
            "\u001b[0;31mAttributeError\u001b[0m                            Traceback (most recent call last)",
            "\u001b[0;32m<ipython-input-28-923d8117ab84>\u001b[0m in \u001b[0;36m<cell line: 2>\u001b[0;34m()\u001b[0m\n\u001b[1;32m      1\u001b[0m \u001b[0;31m#Let's try change our unchangeable tensor\u001b[0m\u001b[0;34m\u001b[0m\u001b[0;34m\u001b[0m\u001b[0m\n\u001b[0;32m----> 2\u001b[0;31m \u001b[0munchangeable_tensor\u001b[0m\u001b[0;34m[\u001b[0m\u001b[0;36m0\u001b[0m\u001b[0;34m]\u001b[0m\u001b[0;34m.\u001b[0m\u001b[0massign\u001b[0m\u001b[0;34m(\u001b[0m\u001b[0;36m7\u001b[0m\u001b[0;34m)\u001b[0m\u001b[0;34m\u001b[0m\u001b[0;34m\u001b[0m\u001b[0m\n\u001b[0m\u001b[1;32m      3\u001b[0m \u001b[0munchangeable_tensor\u001b[0m\u001b[0;34m\u001b[0m\u001b[0;34m\u001b[0m\u001b[0m\n",
            "\u001b[0;32m/usr/local/lib/python3.10/dist-packages/tensorflow/python/framework/tensor.py\u001b[0m in \u001b[0;36m__getattr__\u001b[0;34m(self, name)\u001b[0m\n\u001b[1;32m    259\u001b[0m         \u001b[0mtf\u001b[0m\u001b[0;34m.\u001b[0m\u001b[0mexperimental\u001b[0m\u001b[0;34m.\u001b[0m\u001b[0mnumpy\u001b[0m\u001b[0;34m.\u001b[0m\u001b[0mexperimental_enable_numpy_behavior\u001b[0m\u001b[0;34m(\u001b[0m\u001b[0;34m)\u001b[0m\u001b[0;34m\u001b[0m\u001b[0;34m\u001b[0m\u001b[0m\n\u001b[1;32m    260\u001b[0m       \"\"\")\n\u001b[0;32m--> 261\u001b[0;31m     \u001b[0mself\u001b[0m\u001b[0;34m.\u001b[0m\u001b[0m__getattribute__\u001b[0m\u001b[0;34m(\u001b[0m\u001b[0mname\u001b[0m\u001b[0;34m)\u001b[0m\u001b[0;34m\u001b[0m\u001b[0;34m\u001b[0m\u001b[0m\n\u001b[0m\u001b[1;32m    262\u001b[0m \u001b[0;34m\u001b[0m\u001b[0m\n\u001b[1;32m    263\u001b[0m   \u001b[0;34m@\u001b[0m\u001b[0mproperty\u001b[0m\u001b[0;34m\u001b[0m\u001b[0;34m\u001b[0m\u001b[0m\n",
            "\u001b[0;31mAttributeError\u001b[0m: 'tensorflow.python.framework.ops.EagerTensor' object has no attribute 'assign'"
          ]
        }
      ]
    },
    {
      "cell_type": "markdown",
      "source": [
        "🔑**Note** Rarely in practice will you need to decide whether to use `th.constant` or `tf.Variable` to create tensors, as TensorFlow does this for you. Howevere, if in doubt, use `tf,constant` and change it later if needed."
      ],
      "metadata": {
        "id": "lAE_Qjf0BznC"
      }
    },
    {
      "cell_type": "markdown",
      "source": [
        "###Create random tensors\n",
        "Random tensors are tensor of some abitrary size which contain random numbers."
      ],
      "metadata": {
        "id": "BHmyy7yHBm6_"
      }
    },
    {
      "cell_type": "code",
      "source": [
        "#Create two random (but the same) tensors\n",
        "random_1 = tf.random.Generator.from_seed(7) #Set seed for reproducibility\n",
        "random_1 = random_1.normal(shape = (3, 2))\n",
        "random_2 = tf.random.Generator.from_seed(7)\n",
        "random_2 = random_2.normal(shape = (3, 2))\n",
        "#Are they equal?\n",
        "random_1, random_2, random_1 == random_2"
      ],
      "metadata": {
        "colab": {
          "base_uri": "https://localhost:8080/"
        },
        "id": "6VWHk6ae-NG8",
        "outputId": "8963eb4b-9f41-4553-97f8-b16081ef7631"
      },
      "execution_count": null,
      "outputs": [
        {
          "output_type": "execute_result",
          "data": {
            "text/plain": [
              "(<tf.Tensor: shape=(3, 2), dtype=float32, numpy=\n",
              " array([[-1.3240396 ,  0.28785667],\n",
              "        [-0.8757901 , -0.08857018],\n",
              "        [ 0.69211644,  0.84215707]], dtype=float32)>,\n",
              " <tf.Tensor: shape=(3, 2), dtype=float32, numpy=\n",
              " array([[-1.3240396 ,  0.28785667],\n",
              "        [-0.8757901 , -0.08857018],\n",
              "        [ 0.69211644,  0.84215707]], dtype=float32)>,\n",
              " <tf.Tensor: shape=(3, 2), dtype=bool, numpy=\n",
              " array([[ True,  True],\n",
              "        [ True,  True],\n",
              "        [ True,  True]])>)"
            ]
          },
          "metadata": {},
          "execution_count": 37
        }
      ]
    },
    {
      "cell_type": "markdown",
      "source": [
        "###Shuffle the order of elements in a tensor"
      ],
      "metadata": {
        "id": "dvVetbfzNzJq"
      }
    },
    {
      "cell_type": "code",
      "source": [
        "#Shuffle a tensor(valuable for when you want to shuffle your data so the inherent order does not effect learning)\n",
        "not_shuffled = tf.constant([[10, 7],\n",
        "               [3, 4],\n",
        "               [2, 5]])\n",
        "\n",
        "#Shuffle our non-shuffled tensor\n",
        "tf.random.shuffle(not_shuffled)"
      ],
      "metadata": {
        "colab": {
          "base_uri": "https://localhost:8080/"
        },
        "id": "OnO5HotuJPjP",
        "outputId": "96fb905e-6956-40dd-f163-308fcdf3d331"
      },
      "execution_count": null,
      "outputs": [
        {
          "output_type": "execute_result",
          "data": {
            "text/plain": [
              "<tf.Tensor: shape=(3, 2), dtype=int32, numpy=\n",
              "array([[ 3,  4],\n",
              "       [ 2,  5],\n",
              "       [10,  7]], dtype=int32)>"
            ]
          },
          "metadata": {},
          "execution_count": 43
        }
      ]
    },
    {
      "cell_type": "code",
      "source": [
        "#Shuffle our non-shuffled tensor\n",
        "tf.random.set_seed(42)\n",
        "tf.random.shuffle(not_shuffled, seed = 42)"
      ],
      "metadata": {
        "colab": {
          "base_uri": "https://localhost:8080/"
        },
        "id": "FnH-PKkSTNCW",
        "outputId": "dc5ae3a4-605f-422c-e900-dd735fea5a9b"
      },
      "execution_count": null,
      "outputs": [
        {
          "output_type": "execute_result",
          "data": {
            "text/plain": [
              "<tf.Tensor: shape=(3, 2), dtype=int32, numpy=\n",
              "array([[10,  7],\n",
              "       [ 3,  4],\n",
              "       [ 2,  5]], dtype=int32)>"
            ]
          },
          "metadata": {},
          "execution_count": 56
        }
      ]
    },
    {
      "cell_type": "markdown",
      "source": [
        "#Exercise: shuffle"
      ],
      "metadata": {
        "id": "15tVl1L8WWpu"
      }
    },
    {
      "cell_type": "markdown",
      "source": [
        "##1"
      ],
      "metadata": {
        "id": "xbaUnHDGYXxw"
      }
    },
    {
      "cell_type": "code",
      "source": [
        "not_shuffled = tf.constant([[100, 70],\n",
        "               [30, 40],\n",
        "               [20, 50]])\n",
        "tf.random.shuffle(not_shuffled)"
      ],
      "metadata": {
        "colab": {
          "base_uri": "https://localhost:8080/"
        },
        "id": "nhSF3DGwRYOe",
        "outputId": "ecbe546a-05a4-479b-f33b-e1c0f0359026"
      },
      "execution_count": null,
      "outputs": [
        {
          "output_type": "execute_result",
          "data": {
            "text/plain": [
              "<tf.Tensor: shape=(3, 2), dtype=int32, numpy=\n",
              "array([[ 30,  40],\n",
              "       [ 20,  50],\n",
              "       [100,  70]], dtype=int32)>"
            ]
          },
          "metadata": {},
          "execution_count": 61
        }
      ]
    },
    {
      "cell_type": "code",
      "source": [
        "tf.random.set_seed(42)\n",
        "tf.random.shuffle(not_shuffled, seed = 42)"
      ],
      "metadata": {
        "colab": {
          "base_uri": "https://localhost:8080/"
        },
        "id": "ZyCdN-6sYF-x",
        "outputId": "7859de42-8dee-4d66-9715-e4c29230b342"
      },
      "execution_count": null,
      "outputs": [
        {
          "output_type": "execute_result",
          "data": {
            "text/plain": [
              "<tf.Tensor: shape=(3, 2), dtype=int32, numpy=\n",
              "array([[100,  70],\n",
              "       [ 30,  40],\n",
              "       [ 20,  50]], dtype=int32)>"
            ]
          },
          "metadata": {},
          "execution_count": 82
        }
      ]
    },
    {
      "cell_type": "markdown",
      "source": [
        "##2"
      ],
      "metadata": {
        "id": "HoCFXu4tYaXi"
      }
    },
    {
      "cell_type": "code",
      "source": [
        "not_shuffled = tf.constant([[110, 17],\n",
        "               [13, 14],\n",
        "               [12, 15]])\n",
        "tf.random.shuffle(not_shuffled)"
      ],
      "metadata": {
        "colab": {
          "base_uri": "https://localhost:8080/"
        },
        "id": "1DkGtww7WZar",
        "outputId": "3d18c7cf-b3a6-4c77-823d-a17c427d3bb5"
      },
      "execution_count": null,
      "outputs": [
        {
          "output_type": "execute_result",
          "data": {
            "text/plain": [
              "<tf.Tensor: shape=(3, 2), dtype=int32, numpy=\n",
              "array([[ 12,  15],\n",
              "       [ 13,  14],\n",
              "       [110,  17]], dtype=int32)>"
            ]
          },
          "metadata": {},
          "execution_count": 98
        }
      ]
    },
    {
      "cell_type": "code",
      "source": [
        "tf.random.set_seed(42)\n",
        "tf.random.shuffle(not_shuffled, seed = 42)"
      ],
      "metadata": {
        "colab": {
          "base_uri": "https://localhost:8080/"
        },
        "id": "vYtpwrDcYq72",
        "outputId": "13897dd5-f588-4767-fd51-43dd771bf31b"
      },
      "execution_count": null,
      "outputs": [
        {
          "output_type": "execute_result",
          "data": {
            "text/plain": [
              "<tf.Tensor: shape=(3, 2), dtype=int32, numpy=\n",
              "array([[110,  17],\n",
              "       [ 13,  14],\n",
              "       [ 12,  15]], dtype=int32)>"
            ]
          },
          "metadata": {},
          "execution_count": 101
        }
      ]
    },
    {
      "cell_type": "markdown",
      "source": [
        "##3"
      ],
      "metadata": {
        "id": "jhnmYykjYdDr"
      }
    },
    {
      "cell_type": "code",
      "source": [
        "not_shuffled = tf.constant([[210, 27],\n",
        "               [23, 24],\n",
        "               [22, 25]])\n",
        "tf.random.shuffle(not_shuffled)"
      ],
      "metadata": {
        "colab": {
          "base_uri": "https://localhost:8080/"
        },
        "id": "lyGZG7kNWZzO",
        "outputId": "93b5cdb7-7e3b-48fc-aa76-32dfb4c97b61"
      },
      "execution_count": null,
      "outputs": [
        {
          "output_type": "execute_result",
          "data": {
            "text/plain": [
              "<tf.Tensor: shape=(3, 2), dtype=int32, numpy=\n",
              "array([[210,  27],\n",
              "       [ 22,  25],\n",
              "       [ 23,  24]], dtype=int32)>"
            ]
          },
          "metadata": {},
          "execution_count": 107
        }
      ]
    },
    {
      "cell_type": "code",
      "source": [
        "tf.random.set_seed(42)\n",
        "tf.random.shuffle(not_shuffled, seed = 42)"
      ],
      "metadata": {
        "id": "MgMwVi5aZGPY"
      },
      "execution_count": null,
      "outputs": []
    },
    {
      "cell_type": "markdown",
      "source": [
        "##4"
      ],
      "metadata": {
        "id": "dbbUM_XEYeIq"
      }
    },
    {
      "cell_type": "code",
      "source": [
        "not_shuffled = tf.constant([[102, 72],\n",
        "               [32, 42],\n",
        "               [22, 52]])"
      ],
      "metadata": {
        "id": "Ont9WSLPWaBz"
      },
      "execution_count": null,
      "outputs": []
    },
    {
      "cell_type": "markdown",
      "source": [
        "##5"
      ],
      "metadata": {
        "id": "-Im7cVV5YfV_"
      }
    },
    {
      "cell_type": "code",
      "source": [
        "not_shuffled = tf.constant([[1044, 744],\n",
        "               [344, 444],\n",
        "               [244, 544]])"
      ],
      "metadata": {
        "id": "8DmGIVcWWaNq"
      },
      "execution_count": null,
      "outputs": []
    }
  ]
}