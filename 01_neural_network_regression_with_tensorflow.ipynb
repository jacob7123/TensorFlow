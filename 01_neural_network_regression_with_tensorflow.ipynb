{
  "nbformat": 4,
  "nbformat_minor": 0,
  "metadata": {
    "colab": {
      "provenance": [],
      "authorship_tag": "ABX9TyMRHQoUNS8nHH6zp8Oa/tFf",
      "include_colab_link": true
    },
    "kernelspec": {
      "name": "python3",
      "display_name": "Python 3"
    },
    "language_info": {
      "name": "python"
    }
  },
  "cells": [
    {
      "cell_type": "markdown",
      "metadata": {
        "id": "view-in-github",
        "colab_type": "text"
      },
      "source": [
        "<a href=\"https://colab.research.google.com/github/jacob7123/TensorFlow/blob/main/01_neural_network_regression_with_tensorflow.ipynb\" target=\"_parent\"><img src=\"https://colab.research.google.com/assets/colab-badge.svg\" alt=\"Open In Colab\"/></a>"
      ]
    },
    {
      "cell_type": "markdown",
      "source": [
        "# Introduction to Regression with Neural Networks in TensorFlow\n",
        "\n",
        "There are many definition for a regression problem, but in our case, we are going to simplify it: predixting a numerical variable based on some other combination of variables, even shorter... predicting a number."
      ],
      "metadata": {
        "id": "uyzqH3fHAXcx"
      }
    },
    {
      "cell_type": "code",
      "source": [
        "# Import TensorFlow\n",
        "import tensorflow as tf\n",
        "print(tf.__version__)"
      ],
      "metadata": {
        "colab": {
          "base_uri": "https://localhost:8080/"
        },
        "id": "eJDgFnsKBLMl",
        "outputId": "2ad55b1c-68a7-4f48-e6e3-42887dd8a9b3"
      },
      "execution_count": 1,
      "outputs": [
        {
          "output_type": "stream",
          "name": "stdout",
          "text": [
            "2.14.0\n"
          ]
        }
      ]
    },
    {
      "cell_type": "markdown",
      "source": [
        "## Creating data to view ans fit"
      ],
      "metadata": {
        "id": "krH8yJLSB-Lg"
      }
    },
    {
      "cell_type": "code",
      "source": [
        "import numpy as np\n",
        "import matplotlib.pyplot as plt\n",
        "\n",
        "# Create features\n",
        "X = np.array([-7.0, -4.0, -1.0, 2.0, 5.0, 8.0, 11.0, 14.0])\n",
        "\n",
        "# Create labels\n",
        "y = np.array([3.0, 6.0, 9.0, 12.0, 15.0, 18.0, 21.0, 24.0])\n",
        "\n",
        "# Visualize it\n",
        "plt.scatter(X, y)"
      ],
      "metadata": {
        "colab": {
          "base_uri": "https://localhost:8080/",
          "height": 452
        },
        "id": "r4KxgofvCK2C",
        "outputId": "eb634fb2-4105-4782-bacc-8b14cbeab32d"
      },
      "execution_count": 2,
      "outputs": [
        {
          "output_type": "execute_result",
          "data": {
            "text/plain": [
              "<matplotlib.collections.PathCollection at 0x7ca796076ef0>"
            ]
          },
          "metadata": {},
          "execution_count": 2
        },
        {
          "output_type": "display_data",
          "data": {
            "text/plain": [
              "<Figure size 640x480 with 1 Axes>"
            ],
            "image/png": "[encoded data removed]"
          },
          "metadata": {}
        }
      ]
    },
    {
      "cell_type": "code",
      "source": [
        "y == X + 10"
      ],
      "metadata": {
        "colab": {
          "base_uri": "https://localhost:8080/"
        },
        "id": "LBri6OpeDEJK",
        "outputId": "8640cb2d-accb-4816-c1fb-4906ad471bd3"
      },
      "execution_count": 3,
      "outputs": [
        {
          "output_type": "execute_result",
          "data": {
            "text/plain": [
              "array([ True,  True,  True,  True,  True,  True,  True,  True])"
            ]
          },
          "metadata": {},
          "execution_count": 3
        }
      ]
    },
    {
      "cell_type": "markdown",
      "source": [
        "## Input and output shape"
      ],
      "metadata": {
        "id": "3TIyFtnGDY2o"
      }
    },
    {
      "cell_type": "code",
      "source": [
        "# Create a demo tensor for our housing price prediction problem\n",
        "house_info = tf.constant([\"bedroom\", \"bathroom\", \"garage\"])\n",
        "house_price = tf.constant([939700])\n",
        "house_info, house_price"
      ],
      "metadata": {
        "colab": {
          "base_uri": "https://localhost:8080/"
        },
        "id": "T_w6cxecDqE8",
        "outputId": "1c739865-e35d-4d0c-87f0-9ed091375f55"
      },
      "execution_count": 4,
      "outputs": [
        {
          "output_type": "execute_result",
          "data": {
            "text/plain": [
              "(<tf.Tensor: shape=(3,), dtype=string, numpy=array([b'bedroom', b'bathroom', b'garage'], dtype=object)>,\n",
              " <tf.Tensor: shape=(1,), dtype=int32, numpy=array([939700], dtype=int32)>)"
            ]
          },
          "metadata": {},
          "execution_count": 4
        }
      ]
    },
    {
      "cell_type": "code",
      "source": [
        "X[0], y[0]"
      ],
      "metadata": {
        "colab": {
          "base_uri": "https://localhost:8080/"
        },
        "id": "gioU-wYGG0dY",
        "outputId": "ec2e4805-a1f6-4651-9551-1d55b39f92ee"
      },
      "execution_count": 5,
      "outputs": [
        {
          "output_type": "execute_result",
          "data": {
            "text/plain": [
              "(-7.0, 3.0)"
            ]
          },
          "metadata": {},
          "execution_count": 5
        }
      ]
    },
    {
      "cell_type": "code",
      "source": [
        "X[1], y[1]"
      ],
      "metadata": {
        "colab": {
          "base_uri": "https://localhost:8080/"
        },
        "id": "Kfh9ZrkBG-Ab",
        "outputId": "8acc6075-7306-47fc-fe78-29f16fc4f1c8"
      },
      "execution_count": 6,
      "outputs": [
        {
          "output_type": "execute_result",
          "data": {
            "text/plain": [
              "(-4.0, 6.0)"
            ]
          },
          "metadata": {},
          "execution_count": 6
        }
      ]
    },
    {
      "cell_type": "code",
      "source": [
        "input_shape = X[0].shape\n",
        "output_shape = y[0].shape\n",
        "input_shape, output_shape"
      ],
      "metadata": {
        "colab": {
          "base_uri": "https://localhost:8080/"
        },
        "id": "RfriZBDCEXqR",
        "outputId": "6dcf8be4-1220-42b9-e301-e3dddd3f5af4"
      },
      "execution_count": 7,
      "outputs": [
        {
          "output_type": "execute_result",
          "data": {
            "text/plain": [
              "((), ())"
            ]
          },
          "metadata": {},
          "execution_count": 7
        }
      ]
    },
    {
      "cell_type": "code",
      "source": [
        "X[0].ndim"
      ],
      "metadata": {
        "colab": {
          "base_uri": "https://localhost:8080/"
        },
        "id": "bk-1_kYhE287",
        "outputId": "852f586f-0246-41af-ef38-16052b88ad7d"
      },
      "execution_count": 8,
      "outputs": [
        {
          "output_type": "execute_result",
          "data": {
            "text/plain": [
              "0"
            ]
          },
          "metadata": {},
          "execution_count": 8
        }
      ]
    },
    {
      "cell_type": "code",
      "source": [
        "# Turn our NumPy arrays into tensors\n",
        "X = tf.cast(tf.constant(X), dtype = tf.float32)\n",
        "y = tf.cast(tf.constant(y), dtype = tf.float32)\n",
        "X, y"
      ],
      "metadata": {
        "colab": {
          "base_uri": "https://localhost:8080/"
        },
        "id": "AKY9bJzvHiK_",
        "outputId": "e70f4da8-9c28-4d99-e508-24b1c6f32988"
      },
      "execution_count": 9,
      "outputs": [
        {
          "output_type": "execute_result",
          "data": {
            "text/plain": [
              "(<tf.Tensor: shape=(8,), dtype=float32, numpy=array([-7., -4., -1.,  2.,  5.,  8., 11., 14.], dtype=float32)>,\n",
              " <tf.Tensor: shape=(8,), dtype=float32, numpy=array([ 3.,  6.,  9., 12., 15., 18., 21., 24.], dtype=float32)>)"
            ]
          },
          "metadata": {},
          "execution_count": 9
        }
      ]
    },
    {
      "cell_type": "code",
      "source": [
        "input_shape = X[0].shape\n",
        "output_shape = y[0].shape\n",
        "input_shape, output_shape"
      ],
      "metadata": {
        "colab": {
          "base_uri": "https://localhost:8080/"
        },
        "id": "ObBE99vKIhxc",
        "outputId": "96c7c0e7-4233-4bb5-bb9f-1d5e56f6f40e"
      },
      "execution_count": 10,
      "outputs": [
        {
          "output_type": "execute_result",
          "data": {
            "text/plain": [
              "(TensorShape([]), TensorShape([]))"
            ]
          },
          "metadata": {},
          "execution_count": 10
        }
      ]
    },
    {
      "cell_type": "code",
      "source": [
        "plt.scatter(X, y)"
      ],
      "metadata": {
        "colab": {
          "base_uri": "https://localhost:8080/",
          "height": 452
        },
        "id": "I2QSuVRzJpon",
        "outputId": "8ab1db1e-4388-4210-955b-e4ce4c70646e"
      },
      "execution_count": 11,
      "outputs": [
        {
          "output_type": "execute_result",
          "data": {
            "text/plain": [
              "<matplotlib.collections.PathCollection at 0x7ca790cca170>"
            ]
          },
          "metadata": {},
          "execution_count": 11
        },
        {
          "output_type": "display_data",
          "data": {
            "text/plain": [
              "<Figure size 640x480 with 1 Axes>"
            ],
            "image/png": "[encoded data removed]"
          },
          "metadata": {}
        }
      ]
    },
    {
      "cell_type": "markdown",
      "source": [
        "## Steps in modelling with Tensorflow\n",
        "\n",
        "1. **Creating a model** - define the input ans output layers, as well as the hidden layers of deep learning model.\n",
        "2. **Compiling a model** - define the loss function(in others words, the function which tells our model how wrong it is) and the optimizer(tells our model how to improve the patterns its learning) and evaluation metrics(what we can use to interpret the performance of our model).\n",
        "3. **Fitting a model** - letting the model try to find patterns between X & y(features and labels)."
      ],
      "metadata": {
        "id": "wlVRhHjlJ3i9"
      }
    },
    {
      "cell_type": "code",
      "source": [
        "# Set random seed\n",
        "tf.random.set_seed(42)\n",
        "\n",
        "# 1. Create a model using the Sequential API\n",
        "model = tf.keras.Sequential([\n",
        "    tf.keras.layers.Dense(1)\n",
        "])\n",
        "\n",
        "# 2. Compile the model\n",
        "model.compile(loss = tf.keras.losses.mae, # mae is short for mean absolute error\n",
        "       optimizer = tf.keras.optimizers.SGD(), # SGD is short for stochasitc gradient descent\n",
        "       metrics = [\"mae\"] )\n",
        "\n",
        "# 3. Fit the model\n",
        "model.fit(tf.expand_dims(X, axis = -1), y, epochs = 5)"
      ],
      "metadata": {
        "colab": {
          "base_uri": "https://localhost:8080/"
        },
        "id": "2cmhTf5fJ-0d",
        "outputId": "0cdf8b92-af65-4f40-c04d-27c04f289b37"
      },
      "execution_count": 12,
      "outputs": [
        {
          "output_type": "stream",
          "name": "stdout",
          "text": [
            "Epoch 1/5\n",
            "1/1 [==============================] - 1s 755ms/step - loss: 18.8089 - mae: 18.8089\n",
            "Epoch 2/5\n",
            "1/1 [==============================] - 0s 17ms/step - loss: 18.5277 - mae: 18.5277\n",
            "Epoch 3/5\n",
            "1/1 [==============================] - 0s 10ms/step - loss: 18.2464 - mae: 18.2464\n",
            "Epoch 4/5\n",
            "1/1 [==============================] - 0s 11ms/step - loss: 17.9652 - mae: 17.9652\n",
            "Epoch 5/5\n",
            "1/1 [==============================] - 0s 15ms/step - loss: 17.6839 - mae: 17.6839\n"
          ]
        },
        {
          "output_type": "execute_result",
          "data": {
            "text/plain": [
              "<keras.src.callbacks.History at 0x7ca790c5a920>"
            ]
          },
          "metadata": {},
          "execution_count": 12
        }
      ]
    },
    {
      "cell_type": "code",
      "source": [
        "# Check X and y\n",
        "X, y"
      ],
      "metadata": {
        "colab": {
          "base_uri": "https://localhost:8080/"
        },
        "id": "c4fP04llPTUz",
        "outputId": "6f503220-d840-4cfa-aea8-2c51b80824dc"
      },
      "execution_count": 13,
      "outputs": [
        {
          "output_type": "execute_result",
          "data": {
            "text/plain": [
              "(<tf.Tensor: shape=(8,), dtype=float32, numpy=array([-7., -4., -1.,  2.,  5.,  8., 11., 14.], dtype=float32)>,\n",
              " <tf.Tensor: shape=(8,), dtype=float32, numpy=array([ 3.,  6.,  9., 12., 15., 18., 21., 24.], dtype=float32)>)"
            ]
          },
          "metadata": {},
          "execution_count": 13
        }
      ]
    },
    {
      "cell_type": "code",
      "source": [
        "# Try and make a prediction using our model\n",
        "y_pred = model.predict([17.0])\n",
        "y_pred"
      ],
      "metadata": {
        "colab": {
          "base_uri": "https://localhost:8080/"
        },
        "id": "Nza6O10qRmDk",
        "outputId": "0b3f73df-7c5e-4107-9abe-06f8c1a3db83"
      },
      "execution_count": 14,
      "outputs": [
        {
          "output_type": "stream",
          "name": "stdout",
          "text": [
            "1/1 [==============================] - 0s 165ms/step\n"
          ]
        },
        {
          "output_type": "execute_result",
          "data": {
            "text/plain": [
              "array([[-15.119325]], dtype=float32)"
            ]
          },
          "metadata": {},
          "execution_count": 14
        }
      ]
    },
    {
      "cell_type": "code",
      "source": [
        "y_pred + 11"
      ],
      "metadata": {
        "colab": {
          "base_uri": "https://localhost:8080/"
        },
        "id": "oYHDx8ixSxEi",
        "outputId": "8915ebbb-4633-4d45-d014-54d5cb7ce4a8"
      },
      "execution_count": 15,
      "outputs": [
        {
          "output_type": "execute_result",
          "data": {
            "text/plain": [
              "array([[-4.1193247]], dtype=float32)"
            ]
          },
          "metadata": {},
          "execution_count": 15
        }
      ]
    },
    {
      "cell_type": "markdown",
      "source": [
        "## Impoving our model\n",
        "\n",
        "we can improve our model, by altering the steps we took to create a model.\n",
        "\n",
        "1. **Creating a model** - Here we might add more layers, increase the number of hidden units(all called neurons) within each of the hidden layers, change the activation function of each layer.\n",
        "2. **Compiling a model** - Here we might change the optimization function or perhaps the **learning rate** of the optimization function.\n",
        "3. **Fitting a model** - Here we might fit a model for more **epochs**(leave it training for longer) or on more data(give the model more examples to learn from)."
      ],
      "metadata": {
        "id": "J-7QH7OKTLQX"
      }
    },
    {
      "cell_type": "code",
      "source": [
        "# Let's rebuild our model\n",
        "\n",
        "# 1. Create the model\n",
        "model = tf.keras.Sequential([\n",
        "    tf.keras.layers.Dense(1)\n",
        "])\n",
        "\n",
        "# 2. Compile the model\n",
        "model.compile(loss = tf.keras.losses.mae,\n",
        "       optimizer = tf.keras.optimizers.SGD(),\n",
        "       metrics = [\"mae\"])\n",
        "\n",
        "# Fit the model(this time we will train for longer)\n",
        "model.fit(tf.expand_dims(X, axis = -1), y, epochs = 100)"
      ],
      "metadata": {
        "id": "iLjbkAdDYJRA",
        "colab": {
          "base_uri": "https://localhost:8080/"
        },
        "outputId": "1c2f9cb2-d438-47ec-d8f0-0d592128fab9"
      },
      "execution_count": 16,
      "outputs": [
        {
          "output_type": "stream",
          "name": "stdout",
          "text": [
            "Epoch 1/100\n",
            "1/1 [==============================] - 1s 621ms/step - loss: 8.6479 - mae: 8.6479\n",
            "Epoch 2/100\n",
            "1/1 [==============================] - 0s 14ms/step - loss: 8.5154 - mae: 8.5154\n",
            "Epoch 3/100\n",
            "1/1 [==============================] - 0s 13ms/step - loss: 8.3829 - mae: 8.3829\n",
            "Epoch 4/100\n",
            "1/1 [==============================] - 0s 14ms/step - loss: 8.2504 - mae: 8.2504\n",
            "Epoch 5/100\n",
            "1/1 [==============================] - 0s 12ms/step - loss: 8.1179 - mae: 8.1179\n",
            "Epoch 6/100\n",
            "1/1 [==============================] - 0s 21ms/step - loss: 7.9854 - mae: 7.9854\n",
            "Epoch 7/100\n",
            "1/1 [==============================] - 0s 12ms/step - loss: 7.8529 - mae: 7.8529\n",
            "Epoch 8/100\n",
            "1/1 [==============================] - 0s 29ms/step - loss: 7.7204 - mae: 7.7204\n",
            "Epoch 9/100\n",
            "1/1 [==============================] - 0s 17ms/step - loss: 7.5879 - mae: 7.5879\n",
            "Epoch 10/100\n",
            "1/1 [==============================] - 0s 31ms/step - loss: 7.4554 - mae: 7.4554\n",
            "Epoch 11/100\n",
            "1/1 [==============================] - 0s 14ms/step - loss: 7.4250 - mae: 7.4250\n",
            "Epoch 12/100\n",
            "1/1 [==============================] - 0s 41ms/step - loss: 7.4194 - mae: 7.4194\n",
            "Epoch 13/100\n",
            "1/1 [==============================] - 0s 10ms/step - loss: 7.4138 - mae: 7.4138\n",
            "Epoch 14/100\n",
            "1/1 [==============================] - 0s 12ms/step - loss: 7.4081 - mae: 7.4081\n",
            "Epoch 15/100\n",
            "1/1 [==============================] - 0s 9ms/step - loss: 7.4025 - mae: 7.4025\n",
            "Epoch 16/100\n",
            "1/1 [==============================] - 0s 11ms/step - loss: 7.3969 - mae: 7.3969\n",
            "Epoch 17/100\n",
            "1/1 [==============================] - 0s 12ms/step - loss: 7.3912 - mae: 7.3912\n",
            "Epoch 18/100\n",
            "1/1 [==============================] - 0s 18ms/step - loss: 7.3856 - mae: 7.3856\n",
            "Epoch 19/100\n",
            "1/1 [==============================] - 0s 10ms/step - loss: 7.3800 - mae: 7.3800\n",
            "Epoch 20/100\n",
            "1/1 [==============================] - 0s 12ms/step - loss: 7.3744 - mae: 7.3744\n",
            "Epoch 21/100\n",
            "1/1 [==============================] - 0s 10ms/step - loss: 7.3688 - mae: 7.3688\n",
            "Epoch 22/100\n",
            "1/1 [==============================] - 0s 21ms/step - loss: 7.3631 - mae: 7.3631\n",
            "Epoch 23/100\n",
            "1/1 [==============================] - 0s 17ms/step - loss: 7.3575 - mae: 7.3575\n",
            "Epoch 24/100\n",
            "1/1 [==============================] - 0s 46ms/step - loss: 7.3519 - mae: 7.3519\n",
            "Epoch 25/100\n",
            "1/1 [==============================] - 0s 25ms/step - loss: 7.3463 - mae: 7.3463\n",
            "Epoch 26/100\n",
            "1/1 [==============================] - 0s 23ms/step - loss: 7.3406 - mae: 7.3406\n",
            "Epoch 27/100\n",
            "1/1 [==============================] - 0s 28ms/step - loss: 7.3350 - mae: 7.3350\n",
            "Epoch 28/100\n",
            "1/1 [==============================] - 0s 19ms/step - loss: 7.3294 - mae: 7.3294\n",
            "Epoch 29/100\n",
            "1/1 [==============================] - 0s 13ms/step - loss: 7.3238 - mae: 7.3238\n",
            "Epoch 30/100\n",
            "1/1 [==============================] - 0s 12ms/step - loss: 7.3181 - mae: 7.3181\n",
            "Epoch 31/100\n",
            "1/1 [==============================] - 0s 14ms/step - loss: 7.3125 - mae: 7.3125\n",
            "Epoch 32/100\n",
            "1/1 [==============================] - 0s 16ms/step - loss: 7.3069 - mae: 7.3069\n",
            "Epoch 33/100\n",
            "1/1 [==============================] - 0s 9ms/step - loss: 7.3012 - mae: 7.3012\n",
            "Epoch 34/100\n",
            "1/1 [==============================] - 0s 26ms/step - loss: 7.2956 - mae: 7.2956\n",
            "Epoch 35/100\n",
            "1/1 [==============================] - 0s 17ms/step - loss: 7.2900 - mae: 7.2900\n",
            "Epoch 36/100\n",
            "1/1 [==============================] - 0s 19ms/step - loss: 7.2844 - mae: 7.2844\n",
            "Epoch 37/100\n",
            "1/1 [==============================] - 0s 15ms/step - loss: 7.2787 - mae: 7.2787\n",
            "Epoch 38/100\n",
            "1/1 [==============================] - 0s 13ms/step - loss: 7.2731 - mae: 7.2731\n",
            "Epoch 39/100\n",
            "1/1 [==============================] - 0s 17ms/step - loss: 7.2675 - mae: 7.2675\n",
            "Epoch 40/100\n",
            "1/1 [==============================] - 0s 10ms/step - loss: 7.2619 - mae: 7.2619\n",
            "Epoch 41/100\n",
            "1/1 [==============================] - 0s 10ms/step - loss: 7.2563 - mae: 7.2563\n",
            "Epoch 42/100\n",
            "1/1 [==============================] - 0s 9ms/step - loss: 7.2506 - mae: 7.2506\n",
            "Epoch 43/100\n",
            "1/1 [==============================] - 0s 9ms/step - loss: 7.2450 - mae: 7.2450\n",
            "Epoch 44/100\n",
            "1/1 [==============================] - 0s 11ms/step - loss: 7.2394 - mae: 7.2394\n",
            "Epoch 45/100\n",
            "1/1 [==============================] - 0s 10ms/step - loss: 7.2338 - mae: 7.2338\n",
            "Epoch 46/100\n",
            "1/1 [==============================] - 0s 10ms/step - loss: 7.2281 - mae: 7.2281\n",
            "Epoch 47/100\n",
            "1/1 [==============================] - 0s 10ms/step - loss: 7.2225 - mae: 7.2225\n",
            "Epoch 48/100\n",
            "1/1 [==============================] - 0s 10ms/step - loss: 7.2169 - mae: 7.2169\n",
            "Epoch 49/100\n",
            "1/1 [==============================] - 0s 8ms/step - loss: 7.2113 - mae: 7.2113\n",
            "Epoch 50/100\n",
            "1/1 [==============================] - 0s 9ms/step - loss: 7.2056 - mae: 7.2056\n",
            "Epoch 51/100\n",
            "1/1 [==============================] - 0s 13ms/step - loss: 7.2000 - mae: 7.2000\n",
            "Epoch 52/100\n",
            "1/1 [==============================] - 0s 10ms/step - loss: 7.1944 - mae: 7.1944\n",
            "Epoch 53/100\n",
            "1/1 [==============================] - 0s 13ms/step - loss: 7.1888 - mae: 7.1888\n",
            "Epoch 54/100\n",
            "1/1 [==============================] - 0s 10ms/step - loss: 7.1831 - mae: 7.1831\n",
            "Epoch 55/100\n",
            "1/1 [==============================] - 0s 10ms/step - loss: 7.1775 - mae: 7.1775\n",
            "Epoch 56/100\n",
            "1/1 [==============================] - 0s 11ms/step - loss: 7.1719 - mae: 7.1719\n",
            "Epoch 57/100\n",
            "1/1 [==============================] - 0s 13ms/step - loss: 7.1663 - mae: 7.1663\n",
            "Epoch 58/100\n",
            "1/1 [==============================] - 0s 15ms/step - loss: 7.1606 - mae: 7.1606\n",
            "Epoch 59/100\n",
            "1/1 [==============================] - 0s 9ms/step - loss: 7.1550 - mae: 7.1550\n",
            "Epoch 60/100\n",
            "1/1 [==============================] - 0s 9ms/step - loss: 7.1494 - mae: 7.1494\n",
            "Epoch 61/100\n",
            "1/1 [==============================] - 0s 13ms/step - loss: 7.1438 - mae: 7.1438\n",
            "Epoch 62/100\n",
            "1/1 [==============================] - 0s 14ms/step - loss: 7.1381 - mae: 7.1381\n",
            "Epoch 63/100\n",
            "1/1 [==============================] - 0s 12ms/step - loss: 7.1325 - mae: 7.1325\n",
            "Epoch 64/100\n",
            "1/1 [==============================] - 0s 16ms/step - loss: 7.1269 - mae: 7.1269\n",
            "Epoch 65/100\n",
            "1/1 [==============================] - 0s 17ms/step - loss: 7.1213 - mae: 7.1213\n",
            "Epoch 66/100\n",
            "1/1 [==============================] - 0s 19ms/step - loss: 7.1156 - mae: 7.1156\n",
            "Epoch 67/100\n",
            "1/1 [==============================] - 0s 30ms/step - loss: 7.1100 - mae: 7.1100\n",
            "Epoch 68/100\n",
            "1/1 [==============================] - 0s 15ms/step - loss: 7.1044 - mae: 7.1044\n",
            "Epoch 69/100\n",
            "1/1 [==============================] - 0s 10ms/step - loss: 7.0988 - mae: 7.0988\n",
            "Epoch 70/100\n",
            "1/1 [==============================] - 0s 9ms/step - loss: 7.0931 - mae: 7.0931\n",
            "Epoch 71/100\n",
            "1/1 [==============================] - 0s 20ms/step - loss: 7.0875 - mae: 7.0875\n",
            "Epoch 72/100\n",
            "1/1 [==============================] - 0s 14ms/step - loss: 7.0819 - mae: 7.0819\n",
            "Epoch 73/100\n",
            "1/1 [==============================] - 0s 14ms/step - loss: 7.0763 - mae: 7.0763\n",
            "Epoch 74/100\n",
            "1/1 [==============================] - 0s 13ms/step - loss: 7.0706 - mae: 7.0706\n",
            "Epoch 75/100\n",
            "1/1 [==============================] - 0s 17ms/step - loss: 7.0650 - mae: 7.0650\n",
            "Epoch 76/100\n",
            "1/1 [==============================] - 0s 13ms/step - loss: 7.0594 - mae: 7.0594\n",
            "Epoch 77/100\n",
            "1/1 [==============================] - 0s 12ms/step - loss: 7.0538 - mae: 7.0538\n",
            "Epoch 78/100\n",
            "1/1 [==============================] - 0s 16ms/step - loss: 7.0481 - mae: 7.0481\n",
            "Epoch 79/100\n",
            "1/1 [==============================] - 0s 15ms/step - loss: 7.0425 - mae: 7.0425\n",
            "Epoch 80/100\n",
            "1/1 [==============================] - 0s 13ms/step - loss: 7.0369 - mae: 7.0369\n",
            "Epoch 81/100\n",
            "1/1 [==============================] - 0s 15ms/step - loss: 7.0312 - mae: 7.0312\n",
            "Epoch 82/100\n",
            "1/1 [==============================] - 0s 13ms/step - loss: 7.0256 - mae: 7.0256\n",
            "Epoch 83/100\n",
            "1/1 [==============================] - 0s 11ms/step - loss: 7.0200 - mae: 7.0200\n",
            "Epoch 84/100\n",
            "1/1 [==============================] - 0s 15ms/step - loss: 7.0144 - mae: 7.0144\n",
            "Epoch 85/100\n",
            "1/1 [==============================] - 0s 22ms/step - loss: 7.0087 - mae: 7.0087\n",
            "Epoch 86/100\n",
            "1/1 [==============================] - 0s 11ms/step - loss: 7.0031 - mae: 7.0031\n",
            "Epoch 87/100\n",
            "1/1 [==============================] - 0s 15ms/step - loss: 6.9975 - mae: 6.9975\n",
            "Epoch 88/100\n",
            "1/1 [==============================] - 0s 11ms/step - loss: 6.9919 - mae: 6.9919\n",
            "Epoch 89/100\n",
            "1/1 [==============================] - 0s 15ms/step - loss: 6.9863 - mae: 6.9863\n",
            "Epoch 90/100\n",
            "1/1 [==============================] - 0s 12ms/step - loss: 6.9806 - mae: 6.9806\n",
            "Epoch 91/100\n",
            "1/1 [==============================] - 0s 15ms/step - loss: 6.9750 - mae: 6.9750\n",
            "Epoch 92/100\n",
            "1/1 [==============================] - 0s 14ms/step - loss: 6.9694 - mae: 6.9694\n",
            "Epoch 93/100\n",
            "1/1 [==============================] - 0s 13ms/step - loss: 6.9638 - mae: 6.9638\n",
            "Epoch 94/100\n",
            "1/1 [==============================] - 0s 10ms/step - loss: 6.9581 - mae: 6.9581\n",
            "Epoch 95/100\n",
            "1/1 [==============================] - 0s 14ms/step - loss: 6.9525 - mae: 6.9525\n",
            "Epoch 96/100\n",
            "1/1 [==============================] - 0s 19ms/step - loss: 6.9469 - mae: 6.9469\n",
            "Epoch 97/100\n",
            "1/1 [==============================] - 0s 19ms/step - loss: 6.9413 - mae: 6.9413\n",
            "Epoch 98/100\n",
            "1/1 [==============================] - 0s 34ms/step - loss: 6.9356 - mae: 6.9356\n",
            "Epoch 99/100\n",
            "1/1 [==============================] - 0s 21ms/step - loss: 6.9300 - mae: 6.9300\n",
            "Epoch 100/100\n",
            "1/1 [==============================] - 0s 18ms/step - loss: 6.9244 - mae: 6.9244\n"
          ]
        },
        {
          "output_type": "execute_result",
          "data": {
            "text/plain": [
              "<keras.src.callbacks.History at 0x7ca7900f8190>"
            ]
          },
          "metadata": {},
          "execution_count": 16
        }
      ]
    },
    {
      "cell_type": "code",
      "source": [
        "# Remind ourselves of the data\n",
        "X, y"
      ],
      "metadata": {
        "colab": {
          "base_uri": "https://localhost:8080/"
        },
        "id": "b_9QPf4FIeMi",
        "outputId": "a6d503b9-c862-474f-a628-76313acd5928"
      },
      "execution_count": 17,
      "outputs": [
        {
          "output_type": "execute_result",
          "data": {
            "text/plain": [
              "(<tf.Tensor: shape=(8,), dtype=float32, numpy=array([-7., -4., -1.,  2.,  5.,  8., 11., 14.], dtype=float32)>,\n",
              " <tf.Tensor: shape=(8,), dtype=float32, numpy=array([ 3.,  6.,  9., 12., 15., 18., 21., 24.], dtype=float32)>)"
            ]
          },
          "metadata": {},
          "execution_count": 17
        }
      ]
    },
    {
      "cell_type": "code",
      "source": [
        "# Let's see if our model's prediction has inproved...\n",
        "model.predict([17])"
      ],
      "metadata": {
        "colab": {
          "base_uri": "https://localhost:8080/"
        },
        "id": "gC7ndUSkI_ws",
        "outputId": "3dc31dc9-da7d-4088-f56d-32731a3a33ab"
      },
      "execution_count": 18,
      "outputs": [
        {
          "output_type": "stream",
          "name": "stdout",
          "text": [
            "1/1 [==============================] - 0s 98ms/step\n"
          ]
        },
        {
          "output_type": "execute_result",
          "data": {
            "text/plain": [
              "array([[30.292137]], dtype=float32)"
            ]
          },
          "metadata": {},
          "execution_count": 18
        }
      ]
    },
    {
      "cell_type": "markdown",
      "source": [
        "###Exercise"
      ],
      "metadata": {
        "id": "NXG93-OzJRpp"
      }
    },
    {
      "cell_type": "markdown",
      "source": [
        "![image.png](data:image/png;base64,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)"
      ],
      "metadata": {
        "id": "Je3N48itOGJz"
      }
    },
    {
      "cell_type": "code",
      "source": [
        "# Let's make model\n",
        "\n",
        "# 1. Create the model(this time with extra hidden layer with 100 hidden units)\n",
        "model = tf.keras.Sequential([\n",
        "    tf.keras.layers.Dense(50, activation = None),\n",
        "    tf.keras.layers.Dense(1)\n",
        "])\n",
        "\n",
        "# 2. Compile the model\n",
        "model.compile(loss = tf.keras.losses.mae,\n",
        "      #  optimizer = tf.keras.optimizers.SGD(),\n",
        "       optimizer = tf.keras.optimizers.Adam(learning_rate = 0.01),\n",
        "       metrics = [\"mae\"])\n",
        "\n",
        "# Fit the model(this time we will train for longer)\n",
        "model.fit(tf.expand_dims(X, axis = -1), y, epochs = 100)"
      ],
      "metadata": {
        "colab": {
          "base_uri": "https://localhost:8080/"
        },
        "id": "NcAxHRgGJ6jI",
        "outputId": "13168674-a722-4a47-d98e-dac369847ab2"
      },
      "execution_count": 19,
      "outputs": [
        {
          "output_type": "stream",
          "name": "stdout",
          "text": [
            "Epoch 1/100\n",
            "1/1 [==============================] - 1s 1s/step - loss: 14.9595 - mae: 14.9595\n",
            "Epoch 2/100\n",
            "1/1 [==============================] - 0s 52ms/step - loss: 14.3358 - mae: 14.3358\n",
            "Epoch 3/100\n",
            "1/1 [==============================] - 0s 27ms/step - loss: 13.7156 - mae: 13.7156\n",
            "Epoch 4/100\n",
            "1/1 [==============================] - 0s 23ms/step - loss: 13.0965 - mae: 13.0965\n",
            "Epoch 5/100\n",
            "1/1 [==============================] - 0s 18ms/step - loss: 12.4764 - mae: 12.4764\n",
            "Epoch 6/100\n",
            "1/1 [==============================] - 0s 14ms/step - loss: 11.8536 - mae: 11.8536\n",
            "Epoch 7/100\n",
            "1/1 [==============================] - 0s 10ms/step - loss: 11.2262 - mae: 11.2262\n",
            "Epoch 8/100\n",
            "1/1 [==============================] - 0s 8ms/step - loss: 10.5918 - mae: 10.5918\n",
            "Epoch 9/100\n",
            "1/1 [==============================] - 0s 11ms/step - loss: 9.9480 - mae: 9.9480\n",
            "Epoch 10/100\n",
            "1/1 [==============================] - 0s 12ms/step - loss: 9.2918 - mae: 9.2918\n",
            "Epoch 11/100\n",
            "1/1 [==============================] - 0s 15ms/step - loss: 8.6202 - mae: 8.6202\n",
            "Epoch 12/100\n",
            "1/1 [==============================] - 0s 12ms/step - loss: 7.9300 - mae: 7.9300\n",
            "Epoch 13/100\n",
            "1/1 [==============================] - 0s 11ms/step - loss: 7.2180 - mae: 7.2180\n",
            "Epoch 14/100\n",
            "1/1 [==============================] - 0s 11ms/step - loss: 6.6807 - mae: 6.6807\n",
            "Epoch 15/100\n",
            "1/1 [==============================] - 0s 11ms/step - loss: 6.7650 - mae: 6.7650\n",
            "Epoch 16/100\n",
            "1/1 [==============================] - 0s 10ms/step - loss: 7.0579 - mae: 7.0579\n",
            "Epoch 17/100\n",
            "1/1 [==============================] - 0s 9ms/step - loss: 7.2515 - mae: 7.2515\n",
            "Epoch 18/100\n",
            "1/1 [==============================] - 0s 9ms/step - loss: 7.3947 - mae: 7.3947\n",
            "Epoch 19/100\n",
            "1/1 [==============================] - 0s 13ms/step - loss: 7.3454 - mae: 7.3454\n",
            "Epoch 20/100\n",
            "1/1 [==============================] - 0s 10ms/step - loss: 7.1479 - mae: 7.1479\n",
            "Epoch 21/100\n",
            "1/1 [==============================] - 0s 11ms/step - loss: 6.9095 - mae: 6.9095\n",
            "Epoch 22/100\n",
            "1/1 [==============================] - 0s 13ms/step - loss: 6.6875 - mae: 6.6875\n",
            "Epoch 23/100\n",
            "1/1 [==============================] - 0s 13ms/step - loss: 6.4480 - mae: 6.4480\n",
            "Epoch 24/100\n",
            "1/1 [==============================] - 0s 9ms/step - loss: 6.1953 - mae: 6.1953\n",
            "Epoch 25/100\n",
            "1/1 [==============================] - 0s 9ms/step - loss: 6.0918 - mae: 6.0918\n",
            "Epoch 26/100\n",
            "1/1 [==============================] - 0s 14ms/step - loss: 6.0559 - mae: 6.0559\n",
            "Epoch 27/100\n",
            "1/1 [==============================] - 0s 22ms/step - loss: 6.1396 - mae: 6.1396\n",
            "Epoch 28/100\n",
            "1/1 [==============================] - 0s 10ms/step - loss: 6.2055 - mae: 6.2055\n",
            "Epoch 29/100\n",
            "1/1 [==============================] - 0s 32ms/step - loss: 6.1741 - mae: 6.1741\n",
            "Epoch 30/100\n",
            "1/1 [==============================] - 0s 18ms/step - loss: 6.0572 - mae: 6.0572\n",
            "Epoch 31/100\n",
            "1/1 [==============================] - 0s 15ms/step - loss: 5.8634 - mae: 5.8634\n",
            "Epoch 32/100\n",
            "1/1 [==============================] - 0s 15ms/step - loss: 5.6445 - mae: 5.6445\n",
            "Epoch 33/100\n",
            "1/1 [==============================] - 0s 9ms/step - loss: 5.5468 - mae: 5.5468\n",
            "Epoch 34/100\n",
            "1/1 [==============================] - 0s 10ms/step - loss: 5.4465 - mae: 5.4465\n",
            "Epoch 35/100\n",
            "1/1 [==============================] - 0s 10ms/step - loss: 5.3803 - mae: 5.3803\n",
            "Epoch 36/100\n",
            "1/1 [==============================] - 0s 9ms/step - loss: 5.3675 - mae: 5.3675\n",
            "Epoch 37/100\n",
            "1/1 [==============================] - 0s 17ms/step - loss: 5.3157 - mae: 5.3157\n",
            "Epoch 38/100\n",
            "1/1 [==============================] - 0s 11ms/step - loss: 5.2280 - mae: 5.2280\n",
            "Epoch 39/100\n",
            "1/1 [==============================] - 0s 10ms/step - loss: 5.1078 - mae: 5.1078\n",
            "Epoch 40/100\n",
            "1/1 [==============================] - 0s 34ms/step - loss: 4.9583 - mae: 4.9583\n",
            "Epoch 41/100\n",
            "1/1 [==============================] - 0s 16ms/step - loss: 4.8343 - mae: 4.8343\n",
            "Epoch 42/100\n",
            "1/1 [==============================] - 0s 14ms/step - loss: 4.7538 - mae: 4.7538\n",
            "Epoch 43/100\n",
            "1/1 [==============================] - 0s 19ms/step - loss: 4.6663 - mae: 4.6663\n",
            "Epoch 44/100\n",
            "1/1 [==============================] - 0s 14ms/step - loss: 4.5717 - mae: 4.5717\n",
            "Epoch 45/100\n",
            "1/1 [==============================] - 0s 16ms/step - loss: 4.4699 - mae: 4.4699\n",
            "Epoch 46/100\n",
            "1/1 [==============================] - 0s 16ms/step - loss: 4.3617 - mae: 4.3617\n",
            "Epoch 47/100\n",
            "1/1 [==============================] - 0s 13ms/step - loss: 4.2328 - mae: 4.2328\n",
            "Epoch 48/100\n",
            "1/1 [==============================] - 0s 19ms/step - loss: 4.0979 - mae: 4.0979\n",
            "Epoch 49/100\n",
            "1/1 [==============================] - 0s 15ms/step - loss: 3.9559 - mae: 3.9559\n",
            "Epoch 50/100\n",
            "1/1 [==============================] - 0s 15ms/step - loss: 3.8065 - mae: 3.8065\n",
            "Epoch 51/100\n",
            "1/1 [==============================] - 0s 20ms/step - loss: 3.6717 - mae: 3.6717\n",
            "Epoch 52/100\n",
            "1/1 [==============================] - 0s 17ms/step - loss: 3.5440 - mae: 3.5440\n",
            "Epoch 53/100\n",
            "1/1 [==============================] - 0s 17ms/step - loss: 3.3688 - mae: 3.3688\n",
            "Epoch 54/100\n",
            "1/1 [==============================] - 0s 13ms/step - loss: 3.2037 - mae: 3.2037\n",
            "Epoch 55/100\n",
            "1/1 [==============================] - 0s 27ms/step - loss: 3.0474 - mae: 3.0474\n",
            "Epoch 56/100\n",
            "1/1 [==============================] - 0s 14ms/step - loss: 2.8801 - mae: 2.8801\n",
            "Epoch 57/100\n",
            "1/1 [==============================] - 0s 13ms/step - loss: 2.7016 - mae: 2.7016\n",
            "Epoch 58/100\n",
            "1/1 [==============================] - 0s 13ms/step - loss: 2.5373 - mae: 2.5373\n",
            "Epoch 59/100\n",
            "1/1 [==============================] - 0s 12ms/step - loss: 2.2973 - mae: 2.2973\n",
            "Epoch 60/100\n",
            "1/1 [==============================] - 0s 12ms/step - loss: 2.0724 - mae: 2.0724\n",
            "Epoch 61/100\n",
            "1/1 [==============================] - 0s 15ms/step - loss: 1.9360 - mae: 1.9360\n",
            "Epoch 62/100\n",
            "1/1 [==============================] - 0s 18ms/step - loss: 1.7341 - mae: 1.7341\n",
            "Epoch 63/100\n",
            "1/1 [==============================] - 0s 26ms/step - loss: 1.4642 - mae: 1.4642\n",
            "Epoch 64/100\n",
            "1/1 [==============================] - 0s 13ms/step - loss: 1.1471 - mae: 1.1471\n",
            "Epoch 65/100\n",
            "1/1 [==============================] - 0s 11ms/step - loss: 0.9546 - mae: 0.9546\n",
            "Epoch 66/100\n",
            "1/1 [==============================] - 0s 12ms/step - loss: 0.6453 - mae: 0.6453\n",
            "Epoch 67/100\n",
            "1/1 [==============================] - 0s 14ms/step - loss: 0.5033 - mae: 0.5033\n",
            "Epoch 68/100\n",
            "1/1 [==============================] - 0s 23ms/step - loss: 0.3426 - mae: 0.3426\n",
            "Epoch 69/100\n",
            "1/1 [==============================] - 0s 18ms/step - loss: 0.2182 - mae: 0.2182\n",
            "Epoch 70/100\n",
            "1/1 [==============================] - 0s 24ms/step - loss: 0.4372 - mae: 0.4372\n",
            "Epoch 71/100\n",
            "1/1 [==============================] - 0s 13ms/step - loss: 0.5503 - mae: 0.5503\n",
            "Epoch 72/100\n",
            "1/1 [==============================] - 0s 13ms/step - loss: 0.6518 - mae: 0.6518\n",
            "Epoch 73/100\n",
            "1/1 [==============================] - 0s 16ms/step - loss: 0.6995 - mae: 0.6995\n",
            "Epoch 74/100\n",
            "1/1 [==============================] - 0s 16ms/step - loss: 0.6993 - mae: 0.6993\n",
            "Epoch 75/100\n",
            "1/1 [==============================] - 0s 15ms/step - loss: 0.6616 - mae: 0.6616\n",
            "Epoch 76/100\n",
            "1/1 [==============================] - 0s 10ms/step - loss: 0.5943 - mae: 0.5943\n",
            "Epoch 77/100\n",
            "1/1 [==============================] - 0s 15ms/step - loss: 0.5289 - mae: 0.5289\n",
            "Epoch 78/100\n",
            "1/1 [==============================] - 0s 16ms/step - loss: 0.3976 - mae: 0.3976\n",
            "Epoch 79/100\n",
            "1/1 [==============================] - 0s 16ms/step - loss: 0.3065 - mae: 0.3065\n",
            "Epoch 80/100\n",
            "1/1 [==============================] - 0s 13ms/step - loss: 0.0934 - mae: 0.0934\n",
            "Epoch 81/100\n",
            "1/1 [==============================] - 0s 18ms/step - loss: 0.1056 - mae: 0.1056\n",
            "Epoch 82/100\n",
            "1/1 [==============================] - 0s 13ms/step - loss: 0.2255 - mae: 0.2255\n",
            "Epoch 83/100\n",
            "1/1 [==============================] - 0s 15ms/step - loss: 0.3907 - mae: 0.3907\n",
            "Epoch 84/100\n",
            "1/1 [==============================] - 0s 12ms/step - loss: 0.3912 - mae: 0.3912\n",
            "Epoch 85/100\n",
            "1/1 [==============================] - 0s 11ms/step - loss: 0.4145 - mae: 0.4145\n",
            "Epoch 86/100\n",
            "1/1 [==============================] - 0s 11ms/step - loss: 0.4125 - mae: 0.4125\n",
            "Epoch 87/100\n",
            "1/1 [==============================] - 0s 14ms/step - loss: 0.2868 - mae: 0.2868\n",
            "Epoch 88/100\n",
            "1/1 [==============================] - 0s 34ms/step - loss: 0.2481 - mae: 0.2481\n",
            "Epoch 89/100\n",
            "1/1 [==============================] - 0s 11ms/step - loss: 0.1617 - mae: 0.1617\n",
            "Epoch 90/100\n",
            "1/1 [==============================] - 0s 11ms/step - loss: 0.0160 - mae: 0.0160\n",
            "Epoch 91/100\n",
            "1/1 [==============================] - 0s 19ms/step - loss: 0.2891 - mae: 0.2891\n",
            "Epoch 92/100\n",
            "1/1 [==============================] - 0s 19ms/step - loss: 0.3872 - mae: 0.3872\n",
            "Epoch 93/100\n",
            "1/1 [==============================] - 0s 16ms/step - loss: 0.2991 - mae: 0.2991\n",
            "Epoch 94/100\n",
            "1/1 [==============================] - 0s 13ms/step - loss: 0.4708 - mae: 0.4708\n",
            "Epoch 95/100\n",
            "1/1 [==============================] - 0s 19ms/step - loss: 0.5131 - mae: 0.5131\n",
            "Epoch 96/100\n",
            "1/1 [==============================] - 0s 17ms/step - loss: 0.2879 - mae: 0.2879\n",
            "Epoch 97/100\n",
            "1/1 [==============================] - 0s 13ms/step - loss: 0.3651 - mae: 0.3651\n",
            "Epoch 98/100\n",
            "1/1 [==============================] - 0s 12ms/step - loss: 0.4803 - mae: 0.4803\n",
            "Epoch 99/100\n",
            "1/1 [==============================] - 0s 12ms/step - loss: 0.3242 - mae: 0.3242\n",
            "Epoch 100/100\n",
            "1/1 [==============================] - 0s 12ms/step - loss: 0.1182 - mae: 0.1182\n"
          ]
        },
        {
          "output_type": "execute_result",
          "data": {
            "text/plain": [
              "<keras.src.callbacks.History at 0x7ca783721db0>"
            ]
          },
          "metadata": {},
          "execution_count": 19
        }
      ]
    },
    {
      "cell_type": "code",
      "source": [
        "# Let's remind ourselves of the data\n",
        "X, y"
      ],
      "metadata": {
        "colab": {
          "base_uri": "https://localhost:8080/"
        },
        "id": "0o1s-faMMcMS",
        "outputId": "87597488-7e1e-4643-e826-d2180de457ea"
      },
      "execution_count": 20,
      "outputs": [
        {
          "output_type": "execute_result",
          "data": {
            "text/plain": [
              "(<tf.Tensor: shape=(8,), dtype=float32, numpy=array([-7., -4., -1.,  2.,  5.,  8., 11., 14.], dtype=float32)>,\n",
              " <tf.Tensor: shape=(8,), dtype=float32, numpy=array([ 3.,  6.,  9., 12., 15., 18., 21., 24.], dtype=float32)>)"
            ]
          },
          "metadata": {},
          "execution_count": 20
        }
      ]
    },
    {
      "cell_type": "code",
      "source": [
        "# Let's try to make a prediction\n",
        "model.predict([17])"
      ],
      "metadata": {
        "colab": {
          "base_uri": "https://localhost:8080/"
        },
        "id": "k-1FQ3nlKAXn",
        "outputId": "175863d9-f0f2-40d4-e3db-ba60140bbb0b"
      },
      "execution_count": 21,
      "outputs": [
        {
          "output_type": "stream",
          "name": "stdout",
          "text": [
            "1/1 [==============================] - 0s 151ms/step\n"
          ]
        },
        {
          "output_type": "execute_result",
          "data": {
            "text/plain": [
              "array([[26.391869]], dtype=float32)"
            ]
          },
          "metadata": {},
          "execution_count": 21
        }
      ]
    },
    {
      "cell_type": "markdown",
      "source": [
        "## Evaluting a model\n",
        "\n",
        "In practice, a typical workflow you will go through when building neural networks is:\n",
        "\n",
        "```\n",
        "Build a model -> fit it -> evaluate it -> tweak a model -> fit it ->  evaluate it -> tweak a model -> fit it -> evaluate it ...\n",
        "```"
      ],
      "metadata": {
        "id": "TFECLha1Kbss"
      }
    },
    {
      "cell_type": "markdown",
      "source": [
        "When it comes to evaluation... there are 3 words you should memorize:\n",
        "> \"Visualize, visualize, visualize\"\n",
        "\n",
        "It is a good idea to visualize:\n",
        "* The data - what data are we working with? What does it look like?\n",
        "* The model itself - What does our model look like?\n",
        "* The training of a model - how does a model perform while it learns?\n",
        "* The predixtions of the model - how do\n",
        "the predictions of a model line up against the ground truth(the original labels)?"
      ],
      "metadata": {
        "id": "4LwZPCUwQnN7"
      }
    },
    {
      "cell_type": "code",
      "source": [
        "# Make a biffer dataset\n",
        "X = tf.range(-100, 100, 4)\n",
        "X"
      ],
      "metadata": {
        "colab": {
          "base_uri": "https://localhost:8080/"
        },
        "id": "aD5WWDioRl78",
        "outputId": "dabe9655-0930-4fa7-c263-d97643961d17"
      },
      "execution_count": 22,
      "outputs": [
        {
          "output_type": "execute_result",
          "data": {
            "text/plain": [
              "<tf.Tensor: shape=(50,), dtype=int32, numpy=\n",
              "array([-100,  -96,  -92,  -88,  -84,  -80,  -76,  -72,  -68,  -64,  -60,\n",
              "        -56,  -52,  -48,  -44,  -40,  -36,  -32,  -28,  -24,  -20,  -16,\n",
              "        -12,   -8,   -4,    0,    4,    8,   12,   16,   20,   24,   28,\n",
              "         32,   36,   40,   44,   48,   52,   56,   60,   64,   68,   72,\n",
              "         76,   80,   84,   88,   92,   96], dtype=int32)>"
            ]
          },
          "metadata": {},
          "execution_count": 22
        }
      ]
    },
    {
      "cell_type": "code",
      "source": [
        "# Make labels for the dataset\n",
        "y = X + 10\n",
        "y"
      ],
      "metadata": {
        "colab": {
          "base_uri": "https://localhost:8080/"
        },
        "id": "WHd9rL5ySrS5",
        "outputId": "e9e0bb9d-3ed0-42e9-b8b7-c85469b214b9"
      },
      "execution_count": 23,
      "outputs": [
        {
          "output_type": "execute_result",
          "data": {
            "text/plain": [
              "<tf.Tensor: shape=(50,), dtype=int32, numpy=\n",
              "array([-90, -86, -82, -78, -74, -70, -66, -62, -58, -54, -50, -46, -42,\n",
              "       -38, -34, -30, -26, -22, -18, -14, -10,  -6,  -2,   2,   6,  10,\n",
              "        14,  18,  22,  26,  30,  34,  38,  42,  46,  50,  54,  58,  62,\n",
              "        66,  70,  74,  78,  82,  86,  90,  94,  98, 102, 106], dtype=int32)>"
            ]
          },
          "metadata": {},
          "execution_count": 23
        }
      ]
    },
    {
      "cell_type": "code",
      "source": [
        "# Visualize the data\n",
        "import matplotlib.pyplot as plt\n",
        "\n",
        "plt.scatter(X, y)"
      ],
      "metadata": {
        "colab": {
          "base_uri": "https://localhost:8080/",
          "height": 447
        },
        "id": "jyOpiq6RS4CP",
        "outputId": "d52d8388-6902-4d09-e5c8-5fb5a8b424e7"
      },
      "execution_count": 24,
      "outputs": [
        {
          "output_type": "execute_result",
          "data": {
            "text/plain": [
              "<matplotlib.collections.PathCollection at 0x7ca783653f70>"
            ]
          },
          "metadata": {},
          "execution_count": 24
        },
        {
          "output_type": "display_data",
          "data": {
            "text/plain": [
              "<Figure size 640x480 with 1 Axes>"
            ],
            "image/png": "[encoded data removed]"
          },
          "metadata": {}
        }
      ]
    },
    {
      "cell_type": "markdown",
      "source": [
        "### The 3 sets...\n",
        "\n",
        "* **Training set** - the model learns from this data, which is typically 70-80% the total data you have available.\n",
        "* **Validation set** - the model gets tuned on this data, which typically 10-15% of the data availible.\n",
        "* **Test set** - the model gets evaluated on this data to test what is has learned, this set is typically 10-15% the total data available."
      ],
      "metadata": {
        "id": "XZ2jaaA8TIaX"
      }
    },
    {
      "cell_type": "code",
      "source": [
        "# Check the length of how many samples we have\n",
        "len(X)"
      ],
      "metadata": {
        "colab": {
          "base_uri": "https://localhost:8080/"
        },
        "id": "OO9zyu3lVKJU",
        "outputId": "46e0eebf-55d1-4aab-983b-ae9c12008ceb"
      },
      "execution_count": 25,
      "outputs": [
        {
          "output_type": "execute_result",
          "data": {
            "text/plain": [
              "50"
            ]
          },
          "metadata": {},
          "execution_count": 25
        }
      ]
    },
    {
      "cell_type": "code",
      "source": [
        "# Split the data onto train and test sets\n",
        "X_train = X[:40] # first 40 are training samples(80% of the data)\n",
        "y_train = y[:40]\n",
        "\n",
        "X_test = X[40:] # last 10 are  testing samples(20% of the data)\n",
        "y_test = y[40:]\n",
        "\n",
        "len(X_train), len(X_test), len(y_train), len(y_test)"
      ],
      "metadata": {
        "colab": {
          "base_uri": "https://localhost:8080/"
        },
        "id": "YOLqNgmsVk6S",
        "outputId": "7e94a037-a11a-421d-b9aa-1394ae3958fc"
      },
      "execution_count": 26,
      "outputs": [
        {
          "output_type": "execute_result",
          "data": {
            "text/plain": [
              "(40, 10, 40, 10)"
            ]
          },
          "metadata": {},
          "execution_count": 26
        }
      ]
    },
    {
      "cell_type": "markdown",
      "source": [
        "### Visualizing the data\n",
        "\n",
        "Now we have got our data in training and the sets... Let's visualize it again"
      ],
      "metadata": {
        "id": "57GvJ4-AW1c8"
      }
    },
    {
      "cell_type": "code",
      "source": [
        "plt.figure(figsize=(10, 7))\n",
        "# Plot training data in blue\n",
        "plt.scatter(X_train, y_train, c = 'b', label = \"Training data\") # our model will learn on this\n",
        "# Plot test data in green\n",
        "plt.scatter(X_test, y_test, c = 'g', label = \"Testing data\") # want our model to be able to predict this(given X, what is y?)\n",
        "# Show a legend\n",
        "plt.legend()"
      ],
      "metadata": {
        "colab": {
          "base_uri": "https://localhost:8080/",
          "height": 611
        },
        "id": "SPBX6MhYXWa6",
        "outputId": "12b94ae4-4869-4b4c-96d6-f238345bb57c"
      },
      "execution_count": 27,
      "outputs": [
        {
          "output_type": "execute_result",
          "data": {
            "text/plain": [
              "<matplotlib.legend.Legend at 0x7ca7836fa290>"
            ]
          },
          "metadata": {},
          "execution_count": 27
        },
        {
          "output_type": "display_data",
          "data": {
            "text/plain": [
              "<Figure size 1000x700 with 1 Axes>"
            ],
            "image/png": "[encoded data removed]"
          },
          "metadata": {}
        }
      ]
    },
    {
      "cell_type": "code",
      "source": [
        "# Let's have a look at how to build a neural network for our data\n",
        "\n",
        "# 1. Create the model\n",
        "model = tf.keras.Sequential([\n",
        "    tf.keras.layers.Dense(1)\n",
        "])\n",
        "\n",
        "# 2. Compile the model\n",
        "model.compile(loss = tf.keras.losses.mae,\n",
        "       optimizer = tf.keras.optimizers.SGD(),\n",
        "       metrics = [\"mae\"])\n",
        "\n",
        "# Fit the model(this time we will train for longer)\n",
        "# model.fit(tf.expand_dims(X_train, axis = -1), y_train, epochs = 100)"
      ],
      "metadata": {
        "id": "4h9Tiu1XXzHP"
      },
      "execution_count": 28,
      "outputs": []
    },
    {
      "cell_type": "markdown",
      "source": [
        "###Visualizing the model"
      ],
      "metadata": {
        "id": "AUr4y-N8aIs0"
      }
    },
    {
      "cell_type": "code",
      "source": [
        "# model.summary()"
      ],
      "metadata": {
        "id": "TKqxf3ZuaN_u"
      },
      "execution_count": 29,
      "outputs": []
    },
    {
      "cell_type": "code",
      "source": [
        "# Let's creaste a model which building  automatically the input_shape argument in the first layer\n",
        "tf.random.set_seed(42)\n",
        "\n",
        "# 1. Create the model(same as above)\n",
        "model = tf.keras.Sequential([\n",
        "    tf.keras.layers.Dense(10, input_shape = [1], name = \"input_layer\"),\n",
        "    tf.keras.layers.Dense(1, name = \"output_layer\")\n",
        "], name = \"model_1\")\n",
        "\n",
        "# 2. Compile the model(same as above)\n",
        "model.compile(loss = tf.keras.losses.mae,\n",
        "       optimizer = tf.keras.optimizers.SGD(),\n",
        "       metrics = [\"mae\"])"
      ],
      "metadata": {
        "id": "QG-voUhcagDO"
      },
      "execution_count": 62,
      "outputs": []
    },
    {
      "cell_type": "code",
      "source": [
        "model.summary()"
      ],
      "metadata": {
        "colab": {
          "base_uri": "https://localhost:8080/"
        },
        "id": "W1qz0wRtbW10",
        "outputId": "13e85a68-05b1-47c5-b1f3-67bfe8b2e7cc"
      },
      "execution_count": 63,
      "outputs": [
        {
          "output_type": "stream",
          "name": "stdout",
          "text": [
            "Model: \"model_1\"\n",
            "_________________________________________________________________\n",
            " Layer (type)                Output Shape              Param #   \n",
            "=================================================================\n",
            " input_layer (Dense)         (None, 10)                20        \n",
            "                                                                 \n",
            " output_layer (Dense)        (None, 1)                 11        \n",
            "                                                                 \n",
            "=================================================================\n",
            "Total params: 31 (124.00 Byte)\n",
            "Trainable params: 31 (124.00 Byte)\n",
            "Non-trainable params: 0 (0.00 Byte)\n",
            "_________________________________________________________________\n"
          ]
        }
      ]
    },
    {
      "cell_type": "markdown",
      "source": [
        "* Total params - total number of parameters in the model.\n",
        "* Trainable parameters - there are the parameters(patterns)the model can update as it trains.\n",
        "* Non-trainable params - these parameters are not updated during training(this is typical when you bring in already learn patterns or parameters from other models during **transfer learning**).\n",
        "\n",
        "📖 **Resource:** For a more in-depth overview of the trainable parameters within a layer, check out MIT's introduction to deep learning video.\n",
        "\n",
        "**Exercise:** Try playing around with the number of hidden units in the dense layer, see how that effects the number of parameters(total and trainable) bt calling `model.summary()`."
      ],
      "metadata": {
        "id": "ASJ06DSQbd1u"
      }
    },
    {
      "cell_type": "code",
      "source": [
        "# Let's fit our model to the training data\n",
        "model.fit(tf.expand_dims(X_train, axis = -1), y_train, epochs = 100, verbose = 0)"
      ],
      "metadata": {
        "id": "m7Dn0gE8b5I9",
        "colab": {
          "base_uri": "https://localhost:8080/"
        },
        "outputId": "6f23b48e-f794-4bc6-ebd7-17a36946cb42"
      },
      "execution_count": 64,
      "outputs": [
        {
          "output_type": "execute_result",
          "data": {
            "text/plain": [
              "<keras.src.callbacks.History at 0x7ca783772080>"
            ]
          },
          "metadata": {},
          "execution_count": 64
        }
      ]
    },
    {
      "cell_type": "code",
      "source": [
        "# Get the summary of our model\n",
        "model.summary()"
      ],
      "metadata": {
        "colab": {
          "base_uri": "https://localhost:8080/"
        },
        "id": "NUjLVpLK3oXg",
        "outputId": "60d1c37c-7d52-4836-d1b5-15254d65d41c"
      },
      "execution_count": 65,
      "outputs": [
        {
          "output_type": "stream",
          "name": "stdout",
          "text": [
            "Model: \"model_1\"\n",
            "_________________________________________________________________\n",
            " Layer (type)                Output Shape              Param #   \n",
            "=================================================================\n",
            " input_layer (Dense)         (None, 10)                20        \n",
            "                                                                 \n",
            " output_layer (Dense)        (None, 1)                 11        \n",
            "                                                                 \n",
            "=================================================================\n",
            "Total params: 31 (124.00 Byte)\n",
            "Trainable params: 31 (124.00 Byte)\n",
            "Non-trainable params: 0 (0.00 Byte)\n",
            "_________________________________________________________________\n"
          ]
        }
      ]
    },
    {
      "cell_type": "code",
      "source": [
        "from tensorflow.keras.utils import plot_model\n",
        "\n",
        "plot_model(model = model, show_shapes = True)"
      ],
      "metadata": {
        "colab": {
          "base_uri": "https://localhost:8080/",
          "height": 312
        },
        "id": "YaN3upRZ652L",
        "outputId": "14c09ad4-66c4-404a-9edf-a800ac52a5c2"
      },
      "execution_count": 66,
      "outputs": [
        {
          "output_type": "execute_result",
          "data": {
            "image/png": "[encoded data removed]",
            "text/plain": [
              "<IPython.core.display.Image object>"
            ]
          },
          "metadata": {},
          "execution_count": 66
        }
      ]
    },
    {
      "cell_type": "markdown",
      "source": [
        "###Visualizing our model's predictions"
      ],
      "metadata": {
        "id": "rhDmmmG77mhI"
      }
    }
  ]
}