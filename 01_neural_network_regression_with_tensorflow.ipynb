{
  "nbformat": 4,
  "nbformat_minor": 0,
  "metadata": {
    "colab": {
      "provenance": [],
      "authorship_tag": "ABX9TyM8yvB5i2Rd+6s0txcmefdW",
      "include_colab_link": true
    },
    "kernelspec": {
      "name": "python3",
      "display_name": "Python 3"
    },
    "language_info": {
      "name": "python"
    }
  },
  "cells": [
    {
      "cell_type": "markdown",
      "metadata": {
        "id": "view-in-github",
        "colab_type": "text"
      },
      "source": [
        "<a href=\"https://colab.research.google.com/github/jacob7123/TensorFlow/blob/main/01_neural_network_regression_with_tensorflow.ipynb\" target=\"_parent\"><img src=\"https://colab.research.google.com/assets/colab-badge.svg\" alt=\"Open In Colab\"/></a>"
      ]
    },
    {
      "cell_type": "markdown",
      "source": [
        "# Introduction to Regression with Neural Networks in TensorFlow\n",
        "\n",
        "There are many definition for a regression problem, but in our case, we are going to simplify it: predixting a numerical variable based on some other combination of variables, even shorter... predicting a number."
      ],
      "metadata": {
        "id": "uyzqH3fHAXcx"
      }
    },
    {
      "cell_type": "code",
      "source": [
        "# Import TensorFlow\n",
        "import tensorflow as tf\n",
        "print(tf.__version__)"
      ],
      "metadata": {
        "colab": {
          "base_uri": "https://localhost:8080/"
        },
        "id": "eJDgFnsKBLMl",
        "outputId": "85608714-3eb4-4fa0-88e4-79eb2b136772"
      },
      "execution_count": 1,
      "outputs": [
        {
          "output_type": "stream",
          "name": "stdout",
          "text": [
            "2.14.0\n"
          ]
        }
      ]
    },
    {
      "cell_type": "markdown",
      "source": [
        "## Creating data to view ans fit"
      ],
      "metadata": {
        "id": "krH8yJLSB-Lg"
      }
    },
    {
      "cell_type": "code",
      "source": [
        "import numpy as np\n",
        "import matplotlib.pyplot as plt\n",
        "\n",
        "# Create features\n",
        "X = np.array([-7.0, -4.0, -1.0, 2.0, 5.0, 8.0, 11.0, 14.0])\n",
        "\n",
        "# Create labels\n",
        "y = np.array([3.0, 6.0, 9.0, 12.0, 15.0, 18.0, 21.0, 24.0])\n",
        "\n",
        "# Visualize it\n",
        "plt.scatter(X, y)"
      ],
      "metadata": {
        "colab": {
          "base_uri": "https://localhost:8080/",
          "height": 452
        },
        "id": "r4KxgofvCK2C",
        "outputId": "1033ddb2-710a-4c43-98c2-26dc3c63c3fb"
      },
      "execution_count": 2,
      "outputs": [
        {
          "output_type": "execute_result",
          "data": {
            "text/plain": [
              "<matplotlib.collections.PathCollection at 0x7b4025bc4d90>"
            ]
          },
          "metadata": {},
          "execution_count": 2
        },
        {
          "output_type": "display_data",
          "data": {
            "text/plain": [
              "<Figure size 640x480 with 1 Axes>"
            ],
            "image/png": "[encoded data removed]"
          },
          "metadata": {}
        }
      ]
    },
    {
      "cell_type": "code",
      "source": [
        "y == X + 10"
      ],
      "metadata": {
        "colab": {
          "base_uri": "https://localhost:8080/"
        },
        "id": "LBri6OpeDEJK",
        "outputId": "376c593a-d3dd-4aa3-b0ed-4e007fc6e9c2"
      },
      "execution_count": 3,
      "outputs": [
        {
          "output_type": "execute_result",
          "data": {
            "text/plain": [
              "array([ True,  True,  True,  True,  True,  True,  True,  True])"
            ]
          },
          "metadata": {},
          "execution_count": 3
        }
      ]
    },
    {
      "cell_type": "markdown",
      "source": [
        "## Input and output shape"
      ],
      "metadata": {
        "id": "3TIyFtnGDY2o"
      }
    },
    {
      "cell_type": "code",
      "source": [
        "# Create a demo tensor for our housing price prediction problem\n",
        "house_info = tf.constant([\"bedroom\", \"bathroom\", \"garage\"])\n",
        "house_price = tf.constant([939700])\n",
        "house_info, house_price"
      ],
      "metadata": {
        "colab": {
          "base_uri": "https://localhost:8080/"
        },
        "id": "T_w6cxecDqE8",
        "outputId": "ad31c6fb-5791-4c54-a472-ce49e03c4ced"
      },
      "execution_count": 4,
      "outputs": [
        {
          "output_type": "execute_result",
          "data": {
            "text/plain": [
              "(<tf.Tensor: shape=(3,), dtype=string, numpy=array([b'bedroom', b'bathroom', b'garage'], dtype=object)>,\n",
              " <tf.Tensor: shape=(1,), dtype=int32, numpy=array([939700], dtype=int32)>)"
            ]
          },
          "metadata": {},
          "execution_count": 4
        }
      ]
    },
    {
      "cell_type": "code",
      "source": [
        "X[0], y[0]"
      ],
      "metadata": {
        "colab": {
          "base_uri": "https://localhost:8080/"
        },
        "id": "gioU-wYGG0dY",
        "outputId": "13f034cd-c469-4030-f147-42c8aab552c7"
      },
      "execution_count": 5,
      "outputs": [
        {
          "output_type": "execute_result",
          "data": {
            "text/plain": [
              "(-7.0, 3.0)"
            ]
          },
          "metadata": {},
          "execution_count": 5
        }
      ]
    },
    {
      "cell_type": "code",
      "source": [
        "X[1], y[1]"
      ],
      "metadata": {
        "colab": {
          "base_uri": "https://localhost:8080/"
        },
        "id": "Kfh9ZrkBG-Ab",
        "outputId": "5763b2d3-ce50-4a99-ea7e-29ecfd726661"
      },
      "execution_count": 6,
      "outputs": [
        {
          "output_type": "execute_result",
          "data": {
            "text/plain": [
              "(-4.0, 6.0)"
            ]
          },
          "metadata": {},
          "execution_count": 6
        }
      ]
    },
    {
      "cell_type": "code",
      "source": [
        "input_shape = X[0].shape\n",
        "output_shape = y[0].shape\n",
        "input_shape, output_shape"
      ],
      "metadata": {
        "colab": {
          "base_uri": "https://localhost:8080/"
        },
        "id": "RfriZBDCEXqR",
        "outputId": "0c9bca17-5420-4c3e-936c-93b26a35f91a"
      },
      "execution_count": 7,
      "outputs": [
        {
          "output_type": "execute_result",
          "data": {
            "text/plain": [
              "((), ())"
            ]
          },
          "metadata": {},
          "execution_count": 7
        }
      ]
    },
    {
      "cell_type": "code",
      "source": [
        "X[0].ndim"
      ],
      "metadata": {
        "colab": {
          "base_uri": "https://localhost:8080/"
        },
        "id": "bk-1_kYhE287",
        "outputId": "836a02cc-fe75-446d-a0f7-0a11b8d7fd5d"
      },
      "execution_count": 8,
      "outputs": [
        {
          "output_type": "execute_result",
          "data": {
            "text/plain": [
              "0"
            ]
          },
          "metadata": {},
          "execution_count": 8
        }
      ]
    },
    {
      "cell_type": "code",
      "source": [
        "# Turn our NumPy arrays into tensors\n",
        "X = tf.cast(tf.constant(X), dtype = tf.float32)\n",
        "y = tf.cast(tf.constant(y), dtype = tf.float32)\n",
        "X, y"
      ],
      "metadata": {
        "colab": {
          "base_uri": "https://localhost:8080/"
        },
        "id": "AKY9bJzvHiK_",
        "outputId": "a7e7a9a9-ff45-48d8-e42d-b7c1598634f7"
      },
      "execution_count": 9,
      "outputs": [
        {
          "output_type": "execute_result",
          "data": {
            "text/plain": [
              "(<tf.Tensor: shape=(8,), dtype=float32, numpy=array([-7., -4., -1.,  2.,  5.,  8., 11., 14.], dtype=float32)>,\n",
              " <tf.Tensor: shape=(8,), dtype=float32, numpy=array([ 3.,  6.,  9., 12., 15., 18., 21., 24.], dtype=float32)>)"
            ]
          },
          "metadata": {},
          "execution_count": 9
        }
      ]
    },
    {
      "cell_type": "code",
      "source": [
        "input_shape = X[0].shape\n",
        "output_shape = y[0].shape\n",
        "input_shape, output_shape"
      ],
      "metadata": {
        "colab": {
          "base_uri": "https://localhost:8080/"
        },
        "id": "ObBE99vKIhxc",
        "outputId": "ed00bc62-a253-4364-b2d9-1dee3c0ce1f7"
      },
      "execution_count": 10,
      "outputs": [
        {
          "output_type": "execute_result",
          "data": {
            "text/plain": [
              "(TensorShape([]), TensorShape([]))"
            ]
          },
          "metadata": {},
          "execution_count": 10
        }
      ]
    },
    {
      "cell_type": "code",
      "source": [
        "plt.scatter(X, y)"
      ],
      "metadata": {
        "colab": {
          "base_uri": "https://localhost:8080/",
          "height": 452
        },
        "id": "I2QSuVRzJpon",
        "outputId": "ee6e2a9f-e3fe-4667-fb58-03488122b5d6"
      },
      "execution_count": 11,
      "outputs": [
        {
          "output_type": "execute_result",
          "data": {
            "text/plain": [
              "<matplotlib.collections.PathCollection at 0x7b4025aa3b20>"
            ]
          },
          "metadata": {},
          "execution_count": 11
        },
        {
          "output_type": "display_data",
          "data": {
            "text/plain": [
              "<Figure size 640x480 with 1 Axes>"
            ],
            "image/png": "[encoded data removed]"
          },
          "metadata": {}
        }
      ]
    },
    {
      "cell_type": "markdown",
      "source": [
        "## Steps in modelling with Tensorflow\n",
        "\n",
        "1. **Creating a model** - define the input ans output layers, as well as the hidden layers of deep learning model.\n",
        "2. **Compiling a model** - define the loss function(in others words, the function which tells our model how wrong it is) and the optimizer(tells our model how to improve the patterns its learning) and evaluation metrics(what we can use to interpret the performance of our model).\n",
        "3. **Fitting a model** - letting the model try to find patterns between X & y(features and labels)."
      ],
      "metadata": {
        "id": "wlVRhHjlJ3i9"
      }
    },
    {
      "cell_type": "code",
      "source": [
        "# Set random seed\n",
        "tf.random.set_seed(42)\n",
        "\n",
        "# 1. Create a model using the Sequential API\n",
        "model = tf.keras.Sequential([\n",
        "    tf.keras.layers.Dense(1)\n",
        "])\n",
        "\n",
        "# 2. Compile the model\n",
        "model.compile(loss = tf.keras.losses.mae, # mae is short for mean absolute error\n",
        "       optimizer = tf.keras.optimizers.SGD(), # SGD is short for stochasitc gradient descent\n",
        "       metrics = [\"mae\"] )\n",
        "\n",
        "# 3. Fit the model\n",
        "model.fit(tf.expand_dims(X, axis = -1), y, epochs = 5)"
      ],
      "metadata": {
        "colab": {
          "base_uri": "https://localhost:8080/"
        },
        "id": "2cmhTf5fJ-0d",
        "outputId": "c4f0e42d-ba12-4f4e-ae1c-161a456b7b41"
      },
      "execution_count": 12,
      "outputs": [
        {
          "output_type": "stream",
          "name": "stdout",
          "text": [
            "Epoch 1/5\n",
            "1/1 [==============================] - 3s 3s/step - loss: 11.4400 - mae: 11.4400\n",
            "Epoch 2/5\n",
            "1/1 [==============================] - 0s 24ms/step - loss: 11.3075 - mae: 11.3075\n",
            "Epoch 3/5\n",
            "1/1 [==============================] - 0s 26ms/step - loss: 11.1750 - mae: 11.1750\n",
            "Epoch 4/5\n",
            "1/1 [==============================] - 0s 33ms/step - loss: 11.0425 - mae: 11.0425\n",
            "Epoch 5/5\n",
            "1/1 [==============================] - 0s 14ms/step - loss: 10.9100 - mae: 10.9100\n"
          ]
        },
        {
          "output_type": "execute_result",
          "data": {
            "text/plain": [
              "<keras.src.callbacks.History at 0x7b40207e7e50>"
            ]
          },
          "metadata": {},
          "execution_count": 12
        }
      ]
    },
    {
      "cell_type": "code",
      "source": [
        "# Check X and y\n",
        "X, y"
      ],
      "metadata": {
        "colab": {
          "base_uri": "https://localhost:8080/"
        },
        "id": "c4fP04llPTUz",
        "outputId": "8941795d-be53-4800-b9cc-21ed09e6e7f1"
      },
      "execution_count": 13,
      "outputs": [
        {
          "output_type": "execute_result",
          "data": {
            "text/plain": [
              "(<tf.Tensor: shape=(8,), dtype=float32, numpy=array([-7., -4., -1.,  2.,  5.,  8., 11., 14.], dtype=float32)>,\n",
              " <tf.Tensor: shape=(8,), dtype=float32, numpy=array([ 3.,  6.,  9., 12., 15., 18., 21., 24.], dtype=float32)>)"
            ]
          },
          "metadata": {},
          "execution_count": 13
        }
      ]
    },
    {
      "cell_type": "code",
      "source": [
        "# Try and make a prediction using our model\n",
        "y_pred = model.predict([17.0])\n",
        "y_pred"
      ],
      "metadata": {
        "colab": {
          "base_uri": "https://localhost:8080/"
        },
        "id": "Nza6O10qRmDk",
        "outputId": "18d50f38-6903-4aab-fc12-ddc0da3a26d8"
      },
      "execution_count": 14,
      "outputs": [
        {
          "output_type": "stream",
          "name": "stdout",
          "text": [
            "1/1 [==============================] - 1s 581ms/step\n"
          ]
        },
        {
          "output_type": "execute_result",
          "data": {
            "text/plain": [
              "array([[13.030681]], dtype=float32)"
            ]
          },
          "metadata": {},
          "execution_count": 14
        }
      ]
    },
    {
      "cell_type": "code",
      "source": [
        "y_pred + 11"
      ],
      "metadata": {
        "colab": {
          "base_uri": "https://localhost:8080/"
        },
        "id": "oYHDx8ixSxEi",
        "outputId": "32a476df-b997-4465-ed21-92a4d0526157"
      },
      "execution_count": 15,
      "outputs": [
        {
          "output_type": "execute_result",
          "data": {
            "text/plain": [
              "array([[24.030682]], dtype=float32)"
            ]
          },
          "metadata": {},
          "execution_count": 15
        }
      ]
    },
    {
      "cell_type": "markdown",
      "source": [
        "## Impoving our model\n",
        "\n",
        "we can improve our model, by altering the steps we took to create a model.\n",
        "\n",
        "1. **Creating a model** - Here we might add more layers, increase the number of hidden units(all called neurons) within each of the hidden layers, change the activation function of each layer.\n",
        "2. **Compiling a model** - Here we might change the optimization function or perhaps the **learning rate** of the optimization function.\n",
        "3. **Fitting a model** - Here we might fit a model for more **epochs**(leave it training for longer) or on more data(give the model more examples to learn from)."
      ],
      "metadata": {
        "id": "J-7QH7OKTLQX"
      }
    },
    {
      "cell_type": "code",
      "source": [
        "# Let's rebuild our model\n",
        "\n",
        "# 1. Create the model\n",
        "model = tf.keras.Sequential([\n",
        "    tf.keras.layers.Dense(1)\n",
        "])\n",
        "\n",
        "# 2. Compile the model\n",
        "model.compile(loss = tf.keras.losses.mae,\n",
        "       optimizer = tf.keras.optimizers.SGD(),\n",
        "       metrics = [\"mae\"])\n",
        "\n",
        "# Fit the model(this time we will train for longer)\n",
        "model.fit(tf.expand_dims(X, axis = -1), y, epochs = 100)"
      ],
      "metadata": {
        "id": "iLjbkAdDYJRA",
        "colab": {
          "base_uri": "https://localhost:8080/"
        },
        "outputId": "6470cebd-0b0c-4c21-e5f8-2dd67c6906e2"
      },
      "execution_count": 17,
      "outputs": [
        {
          "output_type": "stream",
          "name": "stdout",
          "text": [
            "Epoch 1/100\n",
            "1/1 [==============================] - 1s 680ms/step - loss: 11.2990 - mae: 11.2990\n",
            "Epoch 2/100\n",
            "1/1 [==============================] - 0s 24ms/step - loss: 11.1665 - mae: 11.1665\n",
            "Epoch 3/100\n",
            "1/1 [==============================] - 0s 19ms/step - loss: 11.0340 - mae: 11.0340\n",
            "Epoch 4/100\n",
            "1/1 [==============================] - 0s 23ms/step - loss: 10.9015 - mae: 10.9015\n",
            "Epoch 5/100\n",
            "1/1 [==============================] - 0s 21ms/step - loss: 10.7690 - mae: 10.7690\n",
            "Epoch 6/100\n",
            "1/1 [==============================] - 0s 11ms/step - loss: 10.6365 - mae: 10.6365\n",
            "Epoch 7/100\n",
            "1/1 [==============================] - 0s 20ms/step - loss: 10.5040 - mae: 10.5040\n",
            "Epoch 8/100\n",
            "1/1 [==============================] - 0s 18ms/step - loss: 10.3715 - mae: 10.3715\n",
            "Epoch 9/100\n",
            "1/1 [==============================] - 0s 15ms/step - loss: 10.2390 - mae: 10.2390\n",
            "Epoch 10/100\n",
            "1/1 [==============================] - 0s 17ms/step - loss: 10.1065 - mae: 10.1065\n",
            "Epoch 11/100\n",
            "1/1 [==============================] - 0s 20ms/step - loss: 9.9740 - mae: 9.9740\n",
            "Epoch 12/100\n",
            "1/1 [==============================] - 0s 16ms/step - loss: 9.8415 - mae: 9.8415\n",
            "Epoch 13/100\n",
            "1/1 [==============================] - 0s 12ms/step - loss: 9.7090 - mae: 9.7090\n",
            "Epoch 14/100\n",
            "1/1 [==============================] - 0s 16ms/step - loss: 9.5765 - mae: 9.5765\n",
            "Epoch 15/100\n",
            "1/1 [==============================] - 0s 11ms/step - loss: 9.4440 - mae: 9.4440\n",
            "Epoch 16/100\n",
            "1/1 [==============================] - 0s 12ms/step - loss: 9.3115 - mae: 9.3115\n",
            "Epoch 17/100\n",
            "1/1 [==============================] - 0s 12ms/step - loss: 9.1790 - mae: 9.1790\n",
            "Epoch 18/100\n",
            "1/1 [==============================] - 0s 15ms/step - loss: 9.0465 - mae: 9.0465\n",
            "Epoch 19/100\n",
            "1/1 [==============================] - 0s 11ms/step - loss: 8.9140 - mae: 8.9140\n",
            "Epoch 20/100\n",
            "1/1 [==============================] - 0s 12ms/step - loss: 8.7815 - mae: 8.7815\n",
            "Epoch 21/100\n",
            "1/1 [==============================] - 0s 12ms/step - loss: 8.6490 - mae: 8.6490\n",
            "Epoch 22/100\n",
            "1/1 [==============================] - 0s 12ms/step - loss: 8.5165 - mae: 8.5165\n",
            "Epoch 23/100\n",
            "1/1 [==============================] - 0s 16ms/step - loss: 8.3840 - mae: 8.3840\n",
            "Epoch 24/100\n",
            "1/1 [==============================] - 0s 19ms/step - loss: 8.2515 - mae: 8.2515\n",
            "Epoch 25/100\n",
            "1/1 [==============================] - 0s 16ms/step - loss: 8.1190 - mae: 8.1190\n",
            "Epoch 26/100\n",
            "1/1 [==============================] - 0s 15ms/step - loss: 7.9865 - mae: 7.9865\n",
            "Epoch 27/100\n",
            "1/1 [==============================] - 0s 22ms/step - loss: 7.8540 - mae: 7.8540\n",
            "Epoch 28/100\n",
            "1/1 [==============================] - 0s 21ms/step - loss: 7.7215 - mae: 7.7215\n",
            "Epoch 29/100\n",
            "1/1 [==============================] - 0s 18ms/step - loss: 7.5890 - mae: 7.5890\n",
            "Epoch 30/100\n",
            "1/1 [==============================] - 0s 16ms/step - loss: 7.4565 - mae: 7.4565\n",
            "Epoch 31/100\n",
            "1/1 [==============================] - 0s 18ms/step - loss: 7.3240 - mae: 7.3240\n",
            "Epoch 32/100\n",
            "1/1 [==============================] - 0s 21ms/step - loss: 7.2675 - mae: 7.2675\n",
            "Epoch 33/100\n",
            "1/1 [==============================] - 0s 17ms/step - loss: 7.2619 - mae: 7.2619\n",
            "Epoch 34/100\n",
            "1/1 [==============================] - 0s 13ms/step - loss: 7.2562 - mae: 7.2562\n",
            "Epoch 35/100\n",
            "1/1 [==============================] - 0s 18ms/step - loss: 7.2506 - mae: 7.2506\n",
            "Epoch 36/100\n",
            "1/1 [==============================] - 0s 23ms/step - loss: 7.2450 - mae: 7.2450\n",
            "Epoch 37/100\n",
            "1/1 [==============================] - 0s 17ms/step - loss: 7.2394 - mae: 7.2394\n",
            "Epoch 38/100\n",
            "1/1 [==============================] - 0s 15ms/step - loss: 7.2338 - mae: 7.2338\n",
            "Epoch 39/100\n",
            "1/1 [==============================] - 0s 16ms/step - loss: 7.2281 - mae: 7.2281\n",
            "Epoch 40/100\n",
            "1/1 [==============================] - 0s 20ms/step - loss: 7.2225 - mae: 7.2225\n",
            "Epoch 41/100\n",
            "1/1 [==============================] - 0s 16ms/step - loss: 7.2169 - mae: 7.2169\n",
            "Epoch 42/100\n",
            "1/1 [==============================] - 0s 15ms/step - loss: 7.2113 - mae: 7.2113\n",
            "Epoch 43/100\n",
            "1/1 [==============================] - 0s 12ms/step - loss: 7.2056 - mae: 7.2056\n",
            "Epoch 44/100\n",
            "1/1 [==============================] - 0s 22ms/step - loss: 7.2000 - mae: 7.2000\n",
            "Epoch 45/100\n",
            "1/1 [==============================] - 0s 17ms/step - loss: 7.1944 - mae: 7.1944\n",
            "Epoch 46/100\n",
            "1/1 [==============================] - 0s 32ms/step - loss: 7.1887 - mae: 7.1887\n",
            "Epoch 47/100\n",
            "1/1 [==============================] - 0s 16ms/step - loss: 7.1831 - mae: 7.1831\n",
            "Epoch 48/100\n",
            "1/1 [==============================] - 0s 14ms/step - loss: 7.1775 - mae: 7.1775\n",
            "Epoch 49/100\n",
            "1/1 [==============================] - 0s 10ms/step - loss: 7.1719 - mae: 7.1719\n",
            "Epoch 50/100\n",
            "1/1 [==============================] - 0s 10ms/step - loss: 7.1663 - mae: 7.1663\n",
            "Epoch 51/100\n",
            "1/1 [==============================] - 0s 13ms/step - loss: 7.1606 - mae: 7.1606\n",
            "Epoch 52/100\n",
            "1/1 [==============================] - 0s 21ms/step - loss: 7.1550 - mae: 7.1550\n",
            "Epoch 53/100\n",
            "1/1 [==============================] - 0s 18ms/step - loss: 7.1494 - mae: 7.1494\n",
            "Epoch 54/100\n",
            "1/1 [==============================] - 0s 11ms/step - loss: 7.1438 - mae: 7.1438\n",
            "Epoch 55/100\n",
            "1/1 [==============================] - 0s 10ms/step - loss: 7.1381 - mae: 7.1381\n",
            "Epoch 56/100\n",
            "1/1 [==============================] - 0s 10ms/step - loss: 7.1325 - mae: 7.1325\n",
            "Epoch 57/100\n",
            "1/1 [==============================] - 0s 14ms/step - loss: 7.1269 - mae: 7.1269\n",
            "Epoch 58/100\n",
            "1/1 [==============================] - 0s 16ms/step - loss: 7.1212 - mae: 7.1212\n",
            "Epoch 59/100\n",
            "1/1 [==============================] - 0s 19ms/step - loss: 7.1156 - mae: 7.1156\n",
            "Epoch 60/100\n",
            "1/1 [==============================] - 0s 18ms/step - loss: 7.1100 - mae: 7.1100\n",
            "Epoch 61/100\n",
            "1/1 [==============================] - 0s 28ms/step - loss: 7.1044 - mae: 7.1044\n",
            "Epoch 62/100\n",
            "1/1 [==============================] - 0s 28ms/step - loss: 7.0988 - mae: 7.0988\n",
            "Epoch 63/100\n",
            "1/1 [==============================] - 0s 26ms/step - loss: 7.0931 - mae: 7.0931\n",
            "Epoch 64/100\n",
            "1/1 [==============================] - 0s 22ms/step - loss: 7.0875 - mae: 7.0875\n",
            "Epoch 65/100\n",
            "1/1 [==============================] - 0s 22ms/step - loss: 7.0819 - mae: 7.0819\n",
            "Epoch 66/100\n",
            "1/1 [==============================] - 0s 17ms/step - loss: 7.0763 - mae: 7.0763\n",
            "Epoch 67/100\n",
            "1/1 [==============================] - 0s 27ms/step - loss: 7.0706 - mae: 7.0706\n",
            "Epoch 68/100\n",
            "1/1 [==============================] - 0s 22ms/step - loss: 7.0650 - mae: 7.0650\n",
            "Epoch 69/100\n",
            "1/1 [==============================] - 0s 21ms/step - loss: 7.0594 - mae: 7.0594\n",
            "Epoch 70/100\n",
            "1/1 [==============================] - 0s 19ms/step - loss: 7.0538 - mae: 7.0538\n",
            "Epoch 71/100\n",
            "1/1 [==============================] - 0s 20ms/step - loss: 7.0481 - mae: 7.0481\n",
            "Epoch 72/100\n",
            "1/1 [==============================] - 0s 13ms/step - loss: 7.0425 - mae: 7.0425\n",
            "Epoch 73/100\n",
            "1/1 [==============================] - 0s 29ms/step - loss: 7.0369 - mae: 7.0369\n",
            "Epoch 74/100\n",
            "1/1 [==============================] - 0s 23ms/step - loss: 7.0313 - mae: 7.0313\n",
            "Epoch 75/100\n",
            "1/1 [==============================] - 0s 20ms/step - loss: 7.0256 - mae: 7.0256\n",
            "Epoch 76/100\n",
            "1/1 [==============================] - 0s 19ms/step - loss: 7.0200 - mae: 7.0200\n",
            "Epoch 77/100\n",
            "1/1 [==============================] - 0s 24ms/step - loss: 7.0144 - mae: 7.0144\n",
            "Epoch 78/100\n",
            "1/1 [==============================] - 0s 20ms/step - loss: 7.0087 - mae: 7.0087\n",
            "Epoch 79/100\n",
            "1/1 [==============================] - 0s 22ms/step - loss: 7.0031 - mae: 7.0031\n",
            "Epoch 80/100\n",
            "1/1 [==============================] - 0s 18ms/step - loss: 6.9975 - mae: 6.9975\n",
            "Epoch 81/100\n",
            "1/1 [==============================] - 0s 18ms/step - loss: 6.9919 - mae: 6.9919\n",
            "Epoch 82/100\n",
            "1/1 [==============================] - 0s 31ms/step - loss: 6.9863 - mae: 6.9863\n",
            "Epoch 83/100\n",
            "1/1 [==============================] - 0s 25ms/step - loss: 6.9806 - mae: 6.9806\n",
            "Epoch 84/100\n",
            "1/1 [==============================] - 0s 16ms/step - loss: 6.9750 - mae: 6.9750\n",
            "Epoch 85/100\n",
            "1/1 [==============================] - 0s 25ms/step - loss: 6.9694 - mae: 6.9694\n",
            "Epoch 86/100\n",
            "1/1 [==============================] - 0s 20ms/step - loss: 6.9638 - mae: 6.9638\n",
            "Epoch 87/100\n",
            "1/1 [==============================] - 0s 17ms/step - loss: 6.9581 - mae: 6.9581\n",
            "Epoch 88/100\n",
            "1/1 [==============================] - 0s 33ms/step - loss: 6.9525 - mae: 6.9525\n",
            "Epoch 89/100\n",
            "1/1 [==============================] - 0s 32ms/step - loss: 6.9469 - mae: 6.9469\n",
            "Epoch 90/100\n",
            "1/1 [==============================] - 0s 17ms/step - loss: 6.9412 - mae: 6.9412\n",
            "Epoch 91/100\n",
            "1/1 [==============================] - 0s 24ms/step - loss: 6.9356 - mae: 6.9356\n",
            "Epoch 92/100\n",
            "1/1 [==============================] - 0s 26ms/step - loss: 6.9300 - mae: 6.9300\n",
            "Epoch 93/100\n",
            "1/1 [==============================] - 0s 22ms/step - loss: 6.9244 - mae: 6.9244\n",
            "Epoch 94/100\n",
            "1/1 [==============================] - 0s 27ms/step - loss: 6.9188 - mae: 6.9188\n",
            "Epoch 95/100\n",
            "1/1 [==============================] - 0s 16ms/step - loss: 6.9131 - mae: 6.9131\n",
            "Epoch 96/100\n",
            "1/1 [==============================] - 0s 32ms/step - loss: 6.9075 - mae: 6.9075\n",
            "Epoch 97/100\n",
            "1/1 [==============================] - 0s 20ms/step - loss: 6.9019 - mae: 6.9019\n",
            "Epoch 98/100\n",
            "1/1 [==============================] - 0s 17ms/step - loss: 6.8963 - mae: 6.8963\n",
            "Epoch 99/100\n",
            "1/1 [==============================] - 0s 17ms/step - loss: 6.8906 - mae: 6.8906\n",
            "Epoch 100/100\n",
            "1/1 [==============================] - 0s 18ms/step - loss: 6.8850 - mae: 6.8850\n"
          ]
        },
        {
          "output_type": "execute_result",
          "data": {
            "text/plain": [
              "<keras.src.callbacks.History at 0x7b40102690f0>"
            ]
          },
          "metadata": {},
          "execution_count": 17
        }
      ]
    },
    {
      "cell_type": "code",
      "source": [
        "# Remind ourselves of the data\n",
        "X, y"
      ],
      "metadata": {
        "colab": {
          "base_uri": "https://localhost:8080/"
        },
        "id": "b_9QPf4FIeMi",
        "outputId": "726dbfa2-6324-4d01-e897-8e16242ade51"
      },
      "execution_count": 18,
      "outputs": [
        {
          "output_type": "execute_result",
          "data": {
            "text/plain": [
              "(<tf.Tensor: shape=(8,), dtype=float32, numpy=array([-7., -4., -1.,  2.,  5.,  8., 11., 14.], dtype=float32)>,\n",
              " <tf.Tensor: shape=(8,), dtype=float32, numpy=array([ 3.,  6.,  9., 12., 15., 18., 21., 24.], dtype=float32)>)"
            ]
          },
          "metadata": {},
          "execution_count": 18
        }
      ]
    },
    {
      "cell_type": "code",
      "source": [
        "# Let's see if our model's prediction has inproved...\n",
        "model.predict([17])"
      ],
      "metadata": {
        "colab": {
          "base_uri": "https://localhost:8080/"
        },
        "id": "gC7ndUSkI_ws",
        "outputId": "aa6f8ff6-9858-4a51-8e78-306070c9098a"
      },
      "execution_count": 19,
      "outputs": [
        {
          "output_type": "stream",
          "name": "stdout",
          "text": [
            "1/1 [==============================] - 0s 68ms/step\n"
          ]
        },
        {
          "output_type": "execute_result",
          "data": {
            "text/plain": [
              "array([[29.963264]], dtype=float32)"
            ]
          },
          "metadata": {},
          "execution_count": 19
        }
      ]
    },
    {
      "cell_type": "markdown",
      "source": [
        "##Exercise"
      ],
      "metadata": {
        "id": "NXG93-OzJRpp"
      }
    },
    {
      "cell_type": "markdown",
      "source": [
        "![image.png](data:image/png;base64,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)"
      ],
      "metadata": {
        "id": "Je3N48itOGJz"
      }
    },
    {
      "cell_type": "code",
      "source": [
        "# Let's make model\n",
        "\n",
        "# 1. Create the model(this time with extra hidden layer with 100 hidden units)\n",
        "model = tf.keras.Sequential([\n",
        "    tf.keras.layers.Dense(50, activation = None),\n",
        "    tf.keras.layers.Dense(1)\n",
        "])\n",
        "\n",
        "# 2. Compile the model\n",
        "model.compile(loss = tf.keras.losses.mae,\n",
        "      #  optimizer = tf.keras.optimizers.SGD(),\n",
        "       optimizer = tf.keras.optimizers.Adam(learning_rate = 0.01),\n",
        "       metrics = [\"mae\"])\n",
        "\n",
        "# Fit the model(this time we will train for longer)\n",
        "model.fit(tf.expand_dims(X, axis = -1), y, epochs = 100)"
      ],
      "metadata": {
        "colab": {
          "base_uri": "https://localhost:8080/"
        },
        "id": "NcAxHRgGJ6jI",
        "outputId": "61b1847b-d743-4cf6-9e00-4a80b99dd0b8"
      },
      "execution_count": 49,
      "outputs": [
        {
          "output_type": "stream",
          "name": "stdout",
          "text": [
            "Epoch 1/100\n",
            "1/1 [==============================] - 1s 611ms/step - loss: 13.4103 - mae: 13.4103\n",
            "Epoch 2/100\n",
            "1/1 [==============================] - 0s 13ms/step - loss: 12.6971 - mae: 12.6971\n",
            "Epoch 3/100\n",
            "1/1 [==============================] - 0s 11ms/step - loss: 11.9894 - mae: 11.9894\n",
            "Epoch 4/100\n",
            "1/1 [==============================] - 0s 10ms/step - loss: 11.2823 - mae: 11.2823\n",
            "Epoch 5/100\n",
            "1/1 [==============================] - 0s 13ms/step - loss: 10.5716 - mae: 10.5716\n",
            "Epoch 6/100\n",
            "1/1 [==============================] - 0s 10ms/step - loss: 9.8532 - mae: 9.8532\n",
            "Epoch 7/100\n",
            "1/1 [==============================] - 0s 11ms/step - loss: 9.1238 - mae: 9.1238\n",
            "Epoch 8/100\n",
            "1/1 [==============================] - 0s 12ms/step - loss: 8.3802 - mae: 8.3802\n",
            "Epoch 9/100\n",
            "1/1 [==============================] - 0s 17ms/step - loss: 7.6196 - mae: 7.6196\n",
            "Epoch 10/100\n",
            "1/1 [==============================] - 0s 12ms/step - loss: 6.8586 - mae: 6.8586\n",
            "Epoch 11/100\n",
            "1/1 [==============================] - 0s 12ms/step - loss: 6.8109 - mae: 6.8109\n",
            "Epoch 12/100\n",
            "1/1 [==============================] - 0s 11ms/step - loss: 7.1006 - mae: 7.1006\n",
            "Epoch 13/100\n",
            "1/1 [==============================] - 0s 11ms/step - loss: 7.2723 - mae: 7.2723\n",
            "Epoch 14/100\n",
            "1/1 [==============================] - 0s 11ms/step - loss: 7.3441 - mae: 7.3441\n",
            "Epoch 15/100\n",
            "1/1 [==============================] - 0s 12ms/step - loss: 7.3675 - mae: 7.3675\n",
            "Epoch 16/100\n",
            "1/1 [==============================] - 0s 10ms/step - loss: 7.2102 - mae: 7.2102\n",
            "Epoch 17/100\n",
            "1/1 [==============================] - 0s 12ms/step - loss: 7.0408 - mae: 7.0408\n",
            "Epoch 18/100\n",
            "1/1 [==============================] - 0s 11ms/step - loss: 6.8332 - mae: 6.8332\n",
            "Epoch 19/100\n",
            "1/1 [==============================] - 0s 11ms/step - loss: 6.5951 - mae: 6.5951\n",
            "Epoch 20/100\n",
            "1/1 [==============================] - 0s 12ms/step - loss: 6.3331 - mae: 6.3331\n",
            "Epoch 21/100\n",
            "1/1 [==============================] - 0s 11ms/step - loss: 6.1502 - mae: 6.1502\n",
            "Epoch 22/100\n",
            "1/1 [==============================] - 0s 10ms/step - loss: 6.0999 - mae: 6.0999\n",
            "Epoch 23/100\n",
            "1/1 [==============================] - 0s 10ms/step - loss: 6.0980 - mae: 6.0980\n",
            "Epoch 24/100\n",
            "1/1 [==============================] - 0s 10ms/step - loss: 6.1412 - mae: 6.1412\n",
            "Epoch 25/100\n",
            "1/1 [==============================] - 0s 13ms/step - loss: 6.0758 - mae: 6.0758\n",
            "Epoch 26/100\n",
            "1/1 [==============================] - 0s 10ms/step - loss: 5.9161 - mae: 5.9161\n",
            "Epoch 27/100\n",
            "1/1 [==============================] - 0s 10ms/step - loss: 5.7271 - mae: 5.7271\n",
            "Epoch 28/100\n",
            "1/1 [==============================] - 0s 12ms/step - loss: 5.6302 - mae: 5.6302\n",
            "Epoch 29/100\n",
            "1/1 [==============================] - 0s 13ms/step - loss: 5.5303 - mae: 5.5303\n",
            "Epoch 30/100\n",
            "1/1 [==============================] - 0s 11ms/step - loss: 5.4272 - mae: 5.4272\n",
            "Epoch 31/100\n",
            "1/1 [==============================] - 0s 11ms/step - loss: 5.4291 - mae: 5.4291\n",
            "Epoch 32/100\n",
            "1/1 [==============================] - 0s 12ms/step - loss: 5.3871 - mae: 5.3871\n",
            "Epoch 33/100\n",
            "1/1 [==============================] - 0s 11ms/step - loss: 5.2978 - mae: 5.2978\n",
            "Epoch 34/100\n",
            "1/1 [==============================] - 0s 15ms/step - loss: 5.1657 - mae: 5.1657\n",
            "Epoch 35/100\n",
            "1/1 [==============================] - 0s 13ms/step - loss: 4.9947 - mae: 4.9947\n",
            "Epoch 36/100\n",
            "1/1 [==============================] - 0s 19ms/step - loss: 4.8516 - mae: 4.8516\n",
            "Epoch 37/100\n",
            "1/1 [==============================] - 0s 13ms/step - loss: 4.7583 - mae: 4.7583\n",
            "Epoch 38/100\n",
            "1/1 [==============================] - 0s 14ms/step - loss: 4.6581 - mae: 4.6581\n",
            "Epoch 39/100\n",
            "1/1 [==============================] - 0s 13ms/step - loss: 4.5508 - mae: 4.5508\n",
            "Epoch 40/100\n",
            "1/1 [==============================] - 0s 14ms/step - loss: 4.4966 - mae: 4.4966\n",
            "Epoch 41/100\n",
            "1/1 [==============================] - 0s 13ms/step - loss: 4.3286 - mae: 4.3286\n",
            "Epoch 42/100\n",
            "1/1 [==============================] - 0s 14ms/step - loss: 4.1559 - mae: 4.1559\n",
            "Epoch 43/100\n",
            "1/1 [==============================] - 0s 14ms/step - loss: 4.0010 - mae: 4.0010\n",
            "Epoch 44/100\n",
            "1/1 [==============================] - 0s 12ms/step - loss: 3.8742 - mae: 3.8742\n",
            "Epoch 45/100\n",
            "1/1 [==============================] - 0s 12ms/step - loss: 3.7748 - mae: 3.7748\n",
            "Epoch 46/100\n",
            "1/1 [==============================] - 0s 13ms/step - loss: 3.6188 - mae: 3.6188\n",
            "Epoch 47/100\n",
            "1/1 [==============================] - 0s 16ms/step - loss: 3.4099 - mae: 3.4099\n",
            "Epoch 48/100\n",
            "1/1 [==============================] - 0s 16ms/step - loss: 3.2291 - mae: 3.2291\n",
            "Epoch 49/100\n",
            "1/1 [==============================] - 0s 17ms/step - loss: 3.0698 - mae: 3.0698\n",
            "Epoch 50/100\n",
            "1/1 [==============================] - 0s 12ms/step - loss: 2.9442 - mae: 2.9442\n",
            "Epoch 51/100\n",
            "1/1 [==============================] - 0s 15ms/step - loss: 2.7205 - mae: 2.7205\n",
            "Epoch 52/100\n",
            "1/1 [==============================] - 0s 14ms/step - loss: 2.4926 - mae: 2.4926\n",
            "Epoch 53/100\n",
            "1/1 [==============================] - 0s 14ms/step - loss: 2.3461 - mae: 2.3461\n",
            "Epoch 54/100\n",
            "1/1 [==============================] - 0s 13ms/step - loss: 2.1909 - mae: 2.1909\n",
            "Epoch 55/100\n",
            "1/1 [==============================] - 0s 12ms/step - loss: 1.9660 - mae: 1.9660\n",
            "Epoch 56/100\n",
            "1/1 [==============================] - 0s 13ms/step - loss: 1.6752 - mae: 1.6752\n",
            "Epoch 57/100\n",
            "1/1 [==============================] - 0s 15ms/step - loss: 1.3995 - mae: 1.3995\n",
            "Epoch 58/100\n",
            "1/1 [==============================] - 0s 13ms/step - loss: 1.3101 - mae: 1.3101\n",
            "Epoch 59/100\n",
            "1/1 [==============================] - 0s 13ms/step - loss: 1.0541 - mae: 1.0541\n",
            "Epoch 60/100\n",
            "1/1 [==============================] - 0s 14ms/step - loss: 0.6321 - mae: 0.6321\n",
            "Epoch 61/100\n",
            "1/1 [==============================] - 0s 14ms/step - loss: 0.4943 - mae: 0.4943\n",
            "Epoch 62/100\n",
            "1/1 [==============================] - 0s 13ms/step - loss: 0.2573 - mae: 0.2573\n",
            "Epoch 63/100\n",
            "1/1 [==============================] - 0s 13ms/step - loss: 0.3472 - mae: 0.3472\n",
            "Epoch 64/100\n",
            "1/1 [==============================] - 0s 13ms/step - loss: 0.5290 - mae: 0.5290\n",
            "Epoch 65/100\n",
            "1/1 [==============================] - 0s 13ms/step - loss: 0.5785 - mae: 0.5785\n",
            "Epoch 66/100\n",
            "1/1 [==============================] - 0s 11ms/step - loss: 0.8076 - mae: 0.8076\n",
            "Epoch 67/100\n",
            "1/1 [==============================] - 0s 12ms/step - loss: 0.8158 - mae: 0.8158\n",
            "Epoch 68/100\n",
            "1/1 [==============================] - 0s 12ms/step - loss: 0.7925 - mae: 0.7925\n",
            "Epoch 69/100\n",
            "1/1 [==============================] - 0s 12ms/step - loss: 0.8390 - mae: 0.8390\n",
            "Epoch 70/100\n",
            "1/1 [==============================] - 0s 13ms/step - loss: 0.7137 - mae: 0.7137\n",
            "Epoch 71/100\n",
            "1/1 [==============================] - 0s 14ms/step - loss: 0.6399 - mae: 0.6399\n",
            "Epoch 72/100\n",
            "1/1 [==============================] - 0s 13ms/step - loss: 0.5308 - mae: 0.5308\n",
            "Epoch 73/100\n",
            "1/1 [==============================] - 0s 15ms/step - loss: 0.3933 - mae: 0.3933\n",
            "Epoch 74/100\n",
            "1/1 [==============================] - 0s 13ms/step - loss: 0.2455 - mae: 0.2455\n",
            "Epoch 75/100\n",
            "1/1 [==============================] - 0s 17ms/step - loss: 0.1685 - mae: 0.1685\n",
            "Epoch 76/100\n",
            "1/1 [==============================] - 0s 14ms/step - loss: 0.1600 - mae: 0.1600\n",
            "Epoch 77/100\n",
            "1/1 [==============================] - 0s 19ms/step - loss: 0.3840 - mae: 0.3840\n",
            "Epoch 78/100\n",
            "1/1 [==============================] - 0s 17ms/step - loss: 0.5253 - mae: 0.5253\n",
            "Epoch 79/100\n",
            "1/1 [==============================] - 0s 13ms/step - loss: 0.4901 - mae: 0.4901\n",
            "Epoch 80/100\n",
            "1/1 [==============================] - 0s 13ms/step - loss: 0.3392 - mae: 0.3392\n",
            "Epoch 81/100\n",
            "1/1 [==============================] - 0s 14ms/step - loss: 0.3994 - mae: 0.3994\n",
            "Epoch 82/100\n",
            "1/1 [==============================] - 0s 12ms/step - loss: 0.3072 - mae: 0.3072\n",
            "Epoch 83/100\n",
            "1/1 [==============================] - 0s 11ms/step - loss: 0.2920 - mae: 0.2920\n",
            "Epoch 84/100\n",
            "1/1 [==============================] - 0s 12ms/step - loss: 0.2384 - mae: 0.2384\n",
            "Epoch 85/100\n",
            "1/1 [==============================] - 0s 12ms/step - loss: 0.0580 - mae: 0.0580\n",
            "Epoch 86/100\n",
            "1/1 [==============================] - 0s 13ms/step - loss: 0.4036 - mae: 0.4036\n",
            "Epoch 87/100\n",
            "1/1 [==============================] - 0s 13ms/step - loss: 0.5164 - mae: 0.5164\n",
            "Epoch 88/100\n",
            "1/1 [==============================] - 0s 13ms/step - loss: 0.4237 - mae: 0.4237\n",
            "Epoch 89/100\n",
            "1/1 [==============================] - 0s 13ms/step - loss: 0.2656 - mae: 0.2656\n",
            "Epoch 90/100\n",
            "1/1 [==============================] - 0s 14ms/step - loss: 0.4140 - mae: 0.4140\n",
            "Epoch 91/100\n",
            "1/1 [==============================] - 0s 14ms/step - loss: 0.3266 - mae: 0.3266\n",
            "Epoch 92/100\n",
            "1/1 [==============================] - 0s 13ms/step - loss: 0.2356 - mae: 0.2356\n",
            "Epoch 93/100\n",
            "1/1 [==============================] - 0s 13ms/step - loss: 0.2405 - mae: 0.2405\n",
            "Epoch 94/100\n",
            "1/1 [==============================] - 0s 13ms/step - loss: 0.0639 - mae: 0.0639\n",
            "Epoch 95/100\n",
            "1/1 [==============================] - 0s 13ms/step - loss: 0.3653 - mae: 0.3653\n",
            "Epoch 96/100\n",
            "1/1 [==============================] - 0s 13ms/step - loss: 0.4666 - mae: 0.4666\n",
            "Epoch 97/100\n",
            "1/1 [==============================] - 0s 14ms/step - loss: 0.3587 - mae: 0.3587\n",
            "Epoch 98/100\n",
            "1/1 [==============================] - 0s 13ms/step - loss: 0.2141 - mae: 0.2141\n",
            "Epoch 99/100\n",
            "1/1 [==============================] - 0s 14ms/step - loss: 0.3642 - mae: 0.3642\n",
            "Epoch 100/100\n",
            "1/1 [==============================] - 0s 12ms/step - loss: 0.3000 - mae: 0.3000\n"
          ]
        },
        {
          "output_type": "execute_result",
          "data": {
            "text/plain": [
              "<keras.src.callbacks.History at 0x7b400fdb45e0>"
            ]
          },
          "metadata": {},
          "execution_count": 49
        }
      ]
    },
    {
      "cell_type": "code",
      "source": [
        "# Let's remind ourselves of the data\n",
        "X, y"
      ],
      "metadata": {
        "colab": {
          "base_uri": "https://localhost:8080/"
        },
        "id": "0o1s-faMMcMS",
        "outputId": "6c8ac194-d569-4b6c-8ef1-050b62e897ca"
      },
      "execution_count": 50,
      "outputs": [
        {
          "output_type": "execute_result",
          "data": {
            "text/plain": [
              "(<tf.Tensor: shape=(8,), dtype=float32, numpy=array([-7., -4., -1.,  2.,  5.,  8., 11., 14.], dtype=float32)>,\n",
              " <tf.Tensor: shape=(8,), dtype=float32, numpy=array([ 3.,  6.,  9., 12., 15., 18., 21., 24.], dtype=float32)>)"
            ]
          },
          "metadata": {},
          "execution_count": 50
        }
      ]
    },
    {
      "cell_type": "code",
      "source": [
        "# Let's try to make a prediction\n",
        "model.predict([17])"
      ],
      "metadata": {
        "colab": {
          "base_uri": "https://localhost:8080/"
        },
        "id": "k-1FQ3nlKAXn",
        "outputId": "8c5328d8-ada7-4b8a-d13e-aa1ccf06c97f"
      },
      "execution_count": 51,
      "outputs": [
        {
          "output_type": "stream",
          "name": "stdout",
          "text": [
            "1/1 [==============================] - 0s 85ms/step\n"
          ]
        },
        {
          "output_type": "execute_result",
          "data": {
            "text/plain": [
              "array([[26.852818]], dtype=float32)"
            ]
          },
          "metadata": {},
          "execution_count": 51
        }
      ]
    },
    {
      "cell_type": "code",
      "source": [],
      "metadata": {
        "id": "TFECLha1Kbss"
      },
      "execution_count": null,
      "outputs": []
    }
  ]
}